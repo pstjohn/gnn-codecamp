{
  "nbformat": 4,
  "nbformat_minor": 0,
  "metadata": {
    "colab": {
      "name": "Untitled3.ipynb",
      "provenance": [],
      "authorship_tag": "ABX9TyMpDVEazOYeUc9lA+PWdChU",
      "include_colab_link": true
    },
    "kernelspec": {
      "name": "python3",
      "display_name": "Python 3"
    },
    "language_info": {
      "name": "python"
    }
  },
  "cells": [
    {
      "cell_type": "markdown",
      "metadata": {
        "id": "view-in-github",
        "colab_type": "text"
      },
      "source": [
        "<a href=\"https://colab.research.google.com/github/pstjohn/gnn-codecamp/blob/main/cetane_number_prediction.ipynb\" target=\"_parent\"><img src=\"https://colab.research.google.com/assets/colab-badge.svg\" alt=\"Open In Colab\"/></a>"
      ]
    },
    {
      "cell_type": "code",
      "metadata": {
        "id": "LL6L4IZh9eLn"
      },
      "source": [
        "import matplotlib.pyplot as plt\n",
        "%matplotlib inline"
      ],
      "execution_count": 69,
      "outputs": []
    },
    {
      "cell_type": "code",
      "metadata": {
        "id": "UbSkC4sH9rDw",
        "outputId": "92d094f3-83f9-409c-c1f7-4582a47a106f",
        "colab": {
          "base_uri": "https://localhost:8080/",
          "height": 282
        }
      },
      "source": [
        "pd.DataFrame(hist.history).plot.line()"
      ],
      "execution_count": 74,
      "outputs": [
        {
          "output_type": "execute_result",
          "data": {
            "text/plain": [
              "<matplotlib.axes._subplots.AxesSubplot at 0x7fb9c3c2b750>"
            ]
          },
          "metadata": {
            "tags": []
          },
          "execution_count": 74
        },
        {
          "output_type": "display_data",
          "data": {
            "image/png": "[encoded data removed]",
            "text/plain": [
              "<Figure size 432x288 with 1 Axes>"
            ]
          },
          "metadata": {
            "tags": [],
            "needs_background": "light"
          }
        }
      ]
    },
    {
      "cell_type": "markdown",
      "metadata": {
        "id": "IR-xdEKtsJTm"
      },
      "source": [
        "## Enabling the GPU\n",
        "\n",
        "First, you'll need to enable GPUs for the notebook:\n",
        "\n",
        "- Navigate to Edit→Notebook Settings\n",
        "- select GPU from the Hardware Accelerator drop-down"
      ]
    },
    {
      "cell_type": "code",
      "metadata": {
        "id": "yw4WnPKq0Q6e"
      },
      "source": [
        "%tensorflow_version 2.x\n",
        "!pip install rdkit-pypi nfp"
      ],
      "execution_count": null,
      "outputs": []
    },
    {
      "cell_type": "code",
      "metadata": {
        "id": "8F8jp8J_0NHc"
      },
      "source": [
        "import numpy as np\n",
        "import pandas as pd\n",
        "\n",
        "import rdkit\n",
        "from rdkit.Chem import AllChem"
      ],
      "execution_count": 18,
      "outputs": []
    },
    {
      "cell_type": "code",
      "metadata": {
        "colab": {
          "base_uri": "https://localhost:8080/",
          "height": 206
        },
        "id": "KsA4E0H1wp2p",
        "outputId": "60fb9a62-a85f-4910-d1c1-c6545e92c55a"
      },
      "source": [
        "cn_data = pd.read_csv('https://raw.githubusercontent.com/pstjohn/gnn-codecamp/main/cn.csv')\n",
        "cn_data.head()"
      ],
      "execution_count": 19,
      "outputs": [
        {
          "output_type": "execute_result",
          "data": {
            "text/html": [
              "<div>\n",
              "<style scoped>\n",
              "    .dataframe tbody tr th:only-of-type {\n",
              "        vertical-align: middle;\n",
              "    }\n",
              "\n",
              "    .dataframe tbody tr th {\n",
              "        vertical-align: top;\n",
              "    }\n",
              "\n",
              "    .dataframe thead th {\n",
              "        text-align: right;\n",
              "    }\n",
              "</style>\n",
              "<table border=\"1\" class=\"dataframe\">\n",
              "  <thead>\n",
              "    <tr style=\"text-align: right;\">\n",
              "      <th></th>\n",
              "      <th>SMILES</th>\n",
              "      <th>IUPAC name</th>\n",
              "      <th>CN</th>\n",
              "      <th>Device</th>\n",
              "    </tr>\n",
              "  </thead>\n",
              "  <tbody>\n",
              "    <tr>\n",
              "      <th>0</th>\n",
              "      <td>CCCCCCC</td>\n",
              "      <td>heptane</td>\n",
              "      <td>57.600</td>\n",
              "      <td>AFIDA</td>\n",
              "    </tr>\n",
              "    <tr>\n",
              "      <th>1</th>\n",
              "      <td>CCCCCCCCCCCCO</td>\n",
              "      <td>dodecan-1-ol</td>\n",
              "      <td>51.605</td>\n",
              "      <td>AFIDA</td>\n",
              "    </tr>\n",
              "    <tr>\n",
              "      <th>2</th>\n",
              "      <td>CCCC=O</td>\n",
              "      <td>butanal</td>\n",
              "      <td>38.315</td>\n",
              "      <td>AFIDA</td>\n",
              "    </tr>\n",
              "    <tr>\n",
              "      <th>3</th>\n",
              "      <td>CC1CCCCC1</td>\n",
              "      <td>methylcyclohexane</td>\n",
              "      <td>17.355</td>\n",
              "      <td>AFIDA</td>\n",
              "    </tr>\n",
              "    <tr>\n",
              "      <th>4</th>\n",
              "      <td>CC(C)CC(C)(C)C</td>\n",
              "      <td>2,2,4-trimethylpentane</td>\n",
              "      <td>5.200</td>\n",
              "      <td>AFIDA</td>\n",
              "    </tr>\n",
              "  </tbody>\n",
              "</table>\n",
              "</div>"
            ],
            "text/plain": [
              "           SMILES              IUPAC name      CN Device\n",
              "0         CCCCCCC                 heptane  57.600  AFIDA\n",
              "1   CCCCCCCCCCCCO            dodecan-1-ol  51.605  AFIDA\n",
              "2          CCCC=O                 butanal  38.315  AFIDA\n",
              "3       CC1CCCCC1       methylcyclohexane  17.355  AFIDA\n",
              "4  CC(C)CC(C)(C)C  2,2,4-trimethylpentane   5.200  AFIDA"
            ]
          },
          "metadata": {
            "tags": []
          },
          "execution_count": 19
        }
      ]
    },
    {
      "cell_type": "code",
      "metadata": {
        "id": "0HmxZ7Th8Spb",
        "outputId": "ee7cf79c-cdf5-4c4e-863b-23f60580d59c",
        "colab": {
          "base_uri": "https://localhost:8080/",
          "height": 282
        }
      },
      "source": [
        "cn_data.CN.plot.hist()"
      ],
      "execution_count": 43,
      "outputs": [
        {
          "output_type": "execute_result",
          "data": {
            "text/plain": [
              "<matplotlib.axes._subplots.AxesSubplot at 0x7fb9ce7ba850>"
            ]
          },
          "metadata": {
            "tags": []
          },
          "execution_count": 43
        },
        {
          "output_type": "display_data",
          "data": {
            "image/png": "[encoded data removed]",
            "text/plain": [
              "<Figure size 432x288 with 1 Axes>"
            ]
          },
          "metadata": {
            "tags": [],
            "needs_background": "light"
          }
        }
      ]
    },
    {
      "cell_type": "code",
      "metadata": {
        "id": "Nnp2TW0i8Zd6"
      },
      "source": [
        "cn_data['CN'] = cn_data.CN.clip(upper=100)"
      ],
      "execution_count": 45,
      "outputs": []
    },
    {
      "cell_type": "code",
      "metadata": {
        "id": "19z-1YSV1WpX"
      },
      "source": [
        "cn_test = cn_data.sample(frac=0.2, random_state=42)\n",
        "cn_train = cn_data[~cn_data.index.isin(cn_test.index)]"
      ],
      "execution_count": 46,
      "outputs": []
    },
    {
      "cell_type": "code",
      "metadata": {
        "id": "kqeMiBDX1rbF"
      },
      "source": [
        "def get_morgan_fingerprint(smiles, radius=2, nBits=1024):\n",
        "  mol = rdkit.Chem.MolFromSmiles(smiles)\n",
        "  bv = AllChem.GetMorganFingerprintAsBitVect(mol, radius, nBits=nBits)\n",
        "  return np.asarray(bv)\n",
        "\n",
        "def get_all_fingerprints(smiles_series):\n",
        "  fingerprints = np.vstack(smiles_series.apply(get_morgan_fingerprint).values)\n",
        "  return fingerprints"
      ],
      "execution_count": 36,
      "outputs": []
    },
    {
      "cell_type": "code",
      "metadata": {
        "id": "VSPX3nx61vYe"
      },
      "source": [
        "fingerprints_train = get_all_fingerprints(cn_train.SMILES)\n",
        "fingerprints_test = get_all_fingerprints(cn_test.SMILES)"
      ],
      "execution_count": 38,
      "outputs": []
    },
    {
      "cell_type": "code",
      "metadata": {
        "id": "Hbq6yBbt0A8Y",
        "outputId": "a20fe83d-e99b-4098-9fa9-da6fa5d05b14",
        "colab": {
          "base_uri": "https://localhost:8080/",
          "height": 36
        }
      },
      "source": [
        "import tensorflow as tf\n",
        "tf.__version__"
      ],
      "execution_count": 39,
      "outputs": [
        {
          "output_type": "execute_result",
          "data": {
            "application/vnd.google.colaboratory.intrinsic+json": {
              "type": "string"
            },
            "text/plain": [
              "'2.5.0'"
            ]
          },
          "metadata": {
            "tags": []
          },
          "execution_count": 39
        }
      ]
    },
    {
      "cell_type": "code",
      "metadata": {
        "id": "IRSOk6nm7cwJ"
      },
      "source": [
        "input = tf.keras.layers.Input(shape=(1024), name='fingerprint', dtype='int64')\n",
        "out = tf.keras.layers.Dense(128, activation='relu')(input)\n",
        "out = tf.keras.layers.BatchNormalization()(out)\n",
        "out = tf.keras.layers.Dense(64, activation='relu')(out)\n",
        "out = tf.keras.layers.BatchNormalization()(out)\n",
        "out = tf.keras.layers.Dense(1)(out)\n",
        "\n",
        "mlp_model = tf.keras.Model(input, out)"
      ],
      "execution_count": 62,
      "outputs": []
    },
    {
      "cell_type": "code",
      "metadata": {
        "id": "MHTTwtEo8FQh"
      },
      "source": [
        "opt = tf.keras.optimizers.Adam(learning_rate=1E-2)\n",
        "mlp_model.compile(optimizer=opt, loss='mae')"
      ],
      "execution_count": 63,
      "outputs": []
    },
    {
      "cell_type": "code",
      "metadata": {
        "id": "pln8ZRnk8zC7",
        "outputId": "c6670ef9-f75c-4100-94fe-2e8b318bac0c",
        "colab": {
          "base_uri": "https://localhost:8080/"
        }
      },
      "source": [
        "hist = mlp_model.fit(x=fingerprints_train, y=cn_train.CN,\n",
        "                     validation_data=(fingerprints_test, cn_test.CN),\n",
        "                     epochs=25, batch_size=32, verbose=2)"
      ],
      "execution_count": 64,
      "outputs": [
        {
          "output_type": "stream",
          "text": [
            "Epoch 1/25\n",
            "12/12 - 1s - loss: 36.3978 - val_loss: 36.5176\n",
            "Epoch 2/25\n",
            "12/12 - 0s - loss: 33.3140 - val_loss: 27.1513\n",
            "Epoch 3/25\n",
            "12/12 - 0s - loss: 28.0816 - val_loss: 18.1742\n",
            "Epoch 4/25\n",
            "12/12 - 0s - loss: 20.3665 - val_loss: 19.3848\n",
            "Epoch 5/25\n",
            "12/12 - 0s - loss: 13.0791 - val_loss: 20.4843\n",
            "Epoch 6/25\n",
            "12/12 - 0s - loss: 10.1218 - val_loss: 21.8433\n",
            "Epoch 7/25\n",
            "12/12 - 0s - loss: 8.4632 - val_loss: 22.7834\n",
            "Epoch 8/25\n",
            "12/12 - 0s - loss: 7.9495 - val_loss: 18.0783\n",
            "Epoch 9/25\n",
            "12/12 - 0s - loss: 7.8062 - val_loss: 15.3870\n",
            "Epoch 10/25\n",
            "12/12 - 0s - loss: 7.2859 - val_loss: 17.4591\n",
            "Epoch 11/25\n",
            "12/12 - 0s - loss: 6.6862 - val_loss: 13.3861\n",
            "Epoch 12/25\n",
            "12/12 - 0s - loss: 6.9525 - val_loss: 10.7201\n",
            "Epoch 13/25\n",
            "12/12 - 0s - loss: 6.9497 - val_loss: 16.0271\n",
            "Epoch 14/25\n",
            "12/12 - 0s - loss: 6.9571 - val_loss: 14.4245\n",
            "Epoch 15/25\n",
            "12/12 - 0s - loss: 6.4047 - val_loss: 12.6694\n",
            "Epoch 16/25\n",
            "12/12 - 0s - loss: 7.6867 - val_loss: 11.7562\n",
            "Epoch 17/25\n",
            "12/12 - 0s - loss: 5.9935 - val_loss: 11.8451\n",
            "Epoch 18/25\n",
            "12/12 - 0s - loss: 6.0961 - val_loss: 13.8056\n",
            "Epoch 19/25\n",
            "12/12 - 0s - loss: 6.3757 - val_loss: 10.6198\n",
            "Epoch 20/25\n",
            "12/12 - 0s - loss: 6.1419 - val_loss: 11.9673\n",
            "Epoch 21/25\n",
            "12/12 - 0s - loss: 5.2117 - val_loss: 11.9175\n",
            "Epoch 22/25\n",
            "12/12 - 0s - loss: 5.4017 - val_loss: 11.3948\n",
            "Epoch 23/25\n",
            "12/12 - 0s - loss: 5.6058 - val_loss: 10.3687\n",
            "Epoch 24/25\n",
            "12/12 - 0s - loss: 6.7102 - val_loss: 10.0162\n",
            "Epoch 25/25\n",
            "12/12 - 0s - loss: 5.6450 - val_loss: 10.2894\n"
          ],
          "name": "stdout"
        }
      ]
    },
    {
      "cell_type": "code",
      "metadata": {
        "colab": {
          "base_uri": "https://localhost:8080/"
        },
        "id": "mHeNwOgTspfo",
        "outputId": "a3bdb933-a9ef-48aa-c8cf-b972e585b7c2"
      },
      "source": [
        "!pip install nfp"
      ],
      "execution_count": 6,
      "outputs": [
        {
          "output_type": "stream",
          "text": [
            "Requirement already satisfied: nfp in /usr/local/lib/python3.7/dist-packages (0.2.1)\n",
            "Requirement already satisfied: tensorflow>=2.0 in /usr/local/lib/python3.7/dist-packages (from nfp) (2.5.0)\n",
            "Requirement already satisfied: numpy in /usr/local/lib/python3.7/dist-packages (from nfp) (1.19.5)\n",
            "Requirement already satisfied: tqdm in /usr/local/lib/python3.7/dist-packages (from nfp) (4.41.1)\n",
            "Requirement already satisfied: wrapt~=1.12.1 in /usr/local/lib/python3.7/dist-packages (from tensorflow>=2.0->nfp) (1.12.1)\n",
            "Requirement already satisfied: six~=1.15.0 in /usr/local/lib/python3.7/dist-packages (from tensorflow>=2.0->nfp) (1.15.0)\n",
            "Requirement already satisfied: tensorflow-estimator<2.6.0,>=2.5.0rc0 in /usr/local/lib/python3.7/dist-packages (from tensorflow>=2.0->nfp) (2.5.0)\n",
            "Requirement already satisfied: keras-nightly~=2.5.0.dev in /usr/local/lib/python3.7/dist-packages (from tensorflow>=2.0->nfp) (2.5.0.dev2021032900)\n",
            "Requirement already satisfied: opt-einsum~=3.3.0 in /usr/local/lib/python3.7/dist-packages (from tensorflow>=2.0->nfp) (3.3.0)\n",
            "Requirement already satisfied: keras-preprocessing~=1.1.2 in /usr/local/lib/python3.7/dist-packages (from tensorflow>=2.0->nfp) (1.1.2)\n",
            "Requirement already satisfied: protobuf>=3.9.2 in /usr/local/lib/python3.7/dist-packages (from tensorflow>=2.0->nfp) (3.17.3)\n",
            "Requirement already satisfied: grpcio~=1.34.0 in /usr/local/lib/python3.7/dist-packages (from tensorflow>=2.0->nfp) (1.34.1)\n",
            "Requirement already satisfied: astunparse~=1.6.3 in /usr/local/lib/python3.7/dist-packages (from tensorflow>=2.0->nfp) (1.6.3)\n",
            "Requirement already satisfied: flatbuffers~=1.12.0 in /usr/local/lib/python3.7/dist-packages (from tensorflow>=2.0->nfp) (1.12)\n",
            "Requirement already satisfied: gast==0.4.0 in /usr/local/lib/python3.7/dist-packages (from tensorflow>=2.0->nfp) (0.4.0)\n",
            "Requirement already satisfied: typing-extensions~=3.7.4 in /usr/local/lib/python3.7/dist-packages (from tensorflow>=2.0->nfp) (3.7.4.3)\n",
            "Requirement already satisfied: h5py~=3.1.0 in /usr/local/lib/python3.7/dist-packages (from tensorflow>=2.0->nfp) (3.1.0)\n",
            "Requirement already satisfied: tensorboard~=2.5 in /usr/local/lib/python3.7/dist-packages (from tensorflow>=2.0->nfp) (2.5.0)\n",
            "Requirement already satisfied: google-pasta~=0.2 in /usr/local/lib/python3.7/dist-packages (from tensorflow>=2.0->nfp) (0.2.0)\n",
            "Requirement already satisfied: wheel~=0.35 in /usr/local/lib/python3.7/dist-packages (from tensorflow>=2.0->nfp) (0.36.2)\n",
            "Requirement already satisfied: termcolor~=1.1.0 in /usr/local/lib/python3.7/dist-packages (from tensorflow>=2.0->nfp) (1.1.0)\n",
            "Requirement already satisfied: absl-py~=0.10 in /usr/local/lib/python3.7/dist-packages (from tensorflow>=2.0->nfp) (0.12.0)\n",
            "Requirement already satisfied: cached-property in /usr/local/lib/python3.7/dist-packages (from h5py~=3.1.0->tensorflow>=2.0->nfp) (1.5.2)\n",
            "Requirement already satisfied: werkzeug>=0.11.15 in /usr/local/lib/python3.7/dist-packages (from tensorboard~=2.5->tensorflow>=2.0->nfp) (1.0.1)\n",
            "Requirement already satisfied: google-auth<2,>=1.6.3 in /usr/local/lib/python3.7/dist-packages (from tensorboard~=2.5->tensorflow>=2.0->nfp) (1.32.1)\n",
            "Requirement already satisfied: tensorboard-plugin-wit>=1.6.0 in /usr/local/lib/python3.7/dist-packages (from tensorboard~=2.5->tensorflow>=2.0->nfp) (1.8.0)\n",
            "Requirement already satisfied: tensorboard-data-server<0.7.0,>=0.6.0 in /usr/local/lib/python3.7/dist-packages (from tensorboard~=2.5->tensorflow>=2.0->nfp) (0.6.1)\n",
            "Requirement already satisfied: google-auth-oauthlib<0.5,>=0.4.1 in /usr/local/lib/python3.7/dist-packages (from tensorboard~=2.5->tensorflow>=2.0->nfp) (0.4.4)\n",
            "Requirement already satisfied: setuptools>=41.0.0 in /usr/local/lib/python3.7/dist-packages (from tensorboard~=2.5->tensorflow>=2.0->nfp) (57.2.0)\n",
            "Requirement already satisfied: requests<3,>=2.21.0 in /usr/local/lib/python3.7/dist-packages (from tensorboard~=2.5->tensorflow>=2.0->nfp) (2.23.0)\n",
            "Requirement already satisfied: markdown>=2.6.8 in /usr/local/lib/python3.7/dist-packages (from tensorboard~=2.5->tensorflow>=2.0->nfp) (3.3.4)\n",
            "Requirement already satisfied: cachetools<5.0,>=2.0.0 in /usr/local/lib/python3.7/dist-packages (from google-auth<2,>=1.6.3->tensorboard~=2.5->tensorflow>=2.0->nfp) (4.2.2)\n",
            "Requirement already satisfied: rsa<5,>=3.1.4 in /usr/local/lib/python3.7/dist-packages (from google-auth<2,>=1.6.3->tensorboard~=2.5->tensorflow>=2.0->nfp) (4.7.2)\n",
            "Requirement already satisfied: pyasn1-modules>=0.2.1 in /usr/local/lib/python3.7/dist-packages (from google-auth<2,>=1.6.3->tensorboard~=2.5->tensorflow>=2.0->nfp) (0.2.8)\n",
            "Requirement already satisfied: requests-oauthlib>=0.7.0 in /usr/local/lib/python3.7/dist-packages (from google-auth-oauthlib<0.5,>=0.4.1->tensorboard~=2.5->tensorflow>=2.0->nfp) (1.3.0)\n",
            "Requirement already satisfied: importlib-metadata in /usr/local/lib/python3.7/dist-packages (from markdown>=2.6.8->tensorboard~=2.5->tensorflow>=2.0->nfp) (4.6.1)\n",
            "Requirement already satisfied: pyasn1<0.5.0,>=0.4.6 in /usr/local/lib/python3.7/dist-packages (from pyasn1-modules>=0.2.1->google-auth<2,>=1.6.3->tensorboard~=2.5->tensorflow>=2.0->nfp) (0.4.8)\n",
            "Requirement already satisfied: chardet<4,>=3.0.2 in /usr/local/lib/python3.7/dist-packages (from requests<3,>=2.21.0->tensorboard~=2.5->tensorflow>=2.0->nfp) (3.0.4)\n",
            "Requirement already satisfied: idna<3,>=2.5 in /usr/local/lib/python3.7/dist-packages (from requests<3,>=2.21.0->tensorboard~=2.5->tensorflow>=2.0->nfp) (2.10)\n",
            "Requirement already satisfied: urllib3!=1.25.0,!=1.25.1,<1.26,>=1.21.1 in /usr/local/lib/python3.7/dist-packages (from requests<3,>=2.21.0->tensorboard~=2.5->tensorflow>=2.0->nfp) (1.24.3)\n",
            "Requirement already satisfied: certifi>=2017.4.17 in /usr/local/lib/python3.7/dist-packages (from requests<3,>=2.21.0->tensorboard~=2.5->tensorflow>=2.0->nfp) (2021.5.30)\n",
            "Requirement already satisfied: oauthlib>=3.0.0 in /usr/local/lib/python3.7/dist-packages (from requests-oauthlib>=0.7.0->google-auth-oauthlib<0.5,>=0.4.1->tensorboard~=2.5->tensorflow>=2.0->nfp) (3.1.1)\n",
            "Requirement already satisfied: zipp>=0.5 in /usr/local/lib/python3.7/dist-packages (from importlib-metadata->markdown>=2.6.8->tensorboard~=2.5->tensorflow>=2.0->nfp) (3.5.0)\n"
          ],
          "name": "stdout"
        }
      ]
    },
    {
      "cell_type": "code",
      "metadata": {
        "id": "1EPh8lO5srOX"
      },
      "source": [
        ""
      ],
      "execution_count": null,
      "outputs": []
    }
  ]
}