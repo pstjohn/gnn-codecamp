{
  "nbformat": 4,
  "nbformat_minor": 0,
  "metadata": {
    "colab": {
      "name": "cetane_number_prediction.ipynb",
      "provenance": [],
      "collapsed_sections": [],
      "authorship_tag": "ABX9TyOkqTVuzUZEA59EVtS5sdAG",
      "include_colab_link": true
    },
    "kernelspec": {
      "name": "python3",
      "display_name": "Python 3"
    },
    "language_info": {
      "name": "python"
    },
    "accelerator": "GPU"
  },
  "cells": [
    {
      "cell_type": "markdown",
      "metadata": {
        "id": "view-in-github",
        "colab_type": "text"
      },
      "source": [
        "<a href=\"https://colab.research.google.com/github/pstjohn/gnn-codecamp/blob/main/cetane_number_prediction.ipynb\" target=\"_parent\"><img src=\"https://colab.research.google.com/assets/colab-badge.svg\" alt=\"Open In Colab\"/></a>"
      ]
    },
    {
      "cell_type": "markdown",
      "metadata": {
        "id": "IR-xdEKtsJTm"
      },
      "source": [
        "## Enabling the GPU\n",
        "\n",
        "First, you'll need to enable GPUs for the notebook:\n",
        "\n",
        "- Navigate to Edit→Notebook Settings\n",
        "- select GPU from the Hardware Accelerator drop-down"
      ]
    },
    {
      "cell_type": "code",
      "metadata": {
        "id": "yw4WnPKq0Q6e",
        "colab": {
          "base_uri": "https://localhost:8080/"
        },
        "outputId": "ee48965d-4879-43e3-a8fd-2ea9a592c210"
      },
      "source": [
        "!pip install rdkit-pypi"
      ],
      "execution_count": 1,
      "outputs": [
        {
          "output_type": "stream",
          "text": [
            "Collecting rdkit-pypi\n",
            "  Downloading rdkit_pypi-2021.3.4-cp37-cp37m-manylinux2014_x86_64.whl (18.6 MB)\n",
            "\u001b[K     |████████████████████████████████| 18.6 MB 1.3 MB/s \n",
            "\u001b[?25hRequirement already satisfied: numpy>=1.19 in /usr/local/lib/python3.7/dist-packages (from rdkit-pypi) (1.19.5)\n",
            "Installing collected packages: rdkit-pypi\n",
            "Successfully installed rdkit-pypi-2021.3.4\n"
          ],
          "name": "stdout"
        }
      ]
    },
    {
      "cell_type": "code",
      "metadata": {
        "id": "8F8jp8J_0NHc"
      },
      "source": [
        "import numpy as np\n",
        "import pandas as pd\n",
        "\n",
        "import rdkit\n",
        "from rdkit.Chem import AllChem"
      ],
      "execution_count": 2,
      "outputs": []
    },
    {
      "cell_type": "code",
      "metadata": {
        "colab": {
          "base_uri": "https://localhost:8080/",
          "height": 206
        },
        "id": "KsA4E0H1wp2p",
        "outputId": "34e1d580-beb3-4d06-f6ba-f7b1623b4751"
      },
      "source": [
        "cn_data = pd.read_csv('https://raw.githubusercontent.com/pstjohn/gnn-codecamp/main/cn.csv')\n",
        "cn_data.head()"
      ],
      "execution_count": 3,
      "outputs": [
        {
          "output_type": "execute_result",
          "data": {
            "text/html": [
              "<div>\n",
              "<style scoped>\n",
              "    .dataframe tbody tr th:only-of-type {\n",
              "        vertical-align: middle;\n",
              "    }\n",
              "\n",
              "    .dataframe tbody tr th {\n",
              "        vertical-align: top;\n",
              "    }\n",
              "\n",
              "    .dataframe thead th {\n",
              "        text-align: right;\n",
              "    }\n",
              "</style>\n",
              "<table border=\"1\" class=\"dataframe\">\n",
              "  <thead>\n",
              "    <tr style=\"text-align: right;\">\n",
              "      <th></th>\n",
              "      <th>SMILES</th>\n",
              "      <th>IUPAC name</th>\n",
              "      <th>CN</th>\n",
              "      <th>Device</th>\n",
              "    </tr>\n",
              "  </thead>\n",
              "  <tbody>\n",
              "    <tr>\n",
              "      <th>0</th>\n",
              "      <td>CCCCCCC</td>\n",
              "      <td>heptane</td>\n",
              "      <td>57.600</td>\n",
              "      <td>AFIDA</td>\n",
              "    </tr>\n",
              "    <tr>\n",
              "      <th>1</th>\n",
              "      <td>CCCCCCCCCCCCO</td>\n",
              "      <td>dodecan-1-ol</td>\n",
              "      <td>51.605</td>\n",
              "      <td>AFIDA</td>\n",
              "    </tr>\n",
              "    <tr>\n",
              "      <th>2</th>\n",
              "      <td>CCCC=O</td>\n",
              "      <td>butanal</td>\n",
              "      <td>38.315</td>\n",
              "      <td>AFIDA</td>\n",
              "    </tr>\n",
              "    <tr>\n",
              "      <th>3</th>\n",
              "      <td>CC1CCCCC1</td>\n",
              "      <td>methylcyclohexane</td>\n",
              "      <td>17.355</td>\n",
              "      <td>AFIDA</td>\n",
              "    </tr>\n",
              "    <tr>\n",
              "      <th>4</th>\n",
              "      <td>CC(C)CC(C)(C)C</td>\n",
              "      <td>2,2,4-trimethylpentane</td>\n",
              "      <td>5.200</td>\n",
              "      <td>AFIDA</td>\n",
              "    </tr>\n",
              "  </tbody>\n",
              "</table>\n",
              "</div>"
            ],
            "text/plain": [
              "           SMILES              IUPAC name      CN Device\n",
              "0         CCCCCCC                 heptane  57.600  AFIDA\n",
              "1   CCCCCCCCCCCCO            dodecan-1-ol  51.605  AFIDA\n",
              "2          CCCC=O                 butanal  38.315  AFIDA\n",
              "3       CC1CCCCC1       methylcyclohexane  17.355  AFIDA\n",
              "4  CC(C)CC(C)(C)C  2,2,4-trimethylpentane   5.200  AFIDA"
            ]
          },
          "metadata": {
            "tags": []
          },
          "execution_count": 3
        }
      ]
    },
    {
      "cell_type": "code",
      "metadata": {
        "colab": {
          "base_uri": "https://localhost:8080/",
          "height": 282
        },
        "id": "0HmxZ7Th8Spb",
        "outputId": "be70e9f5-48ed-4bb4-aae5-fed1f59b5800"
      },
      "source": [
        "cn_data.CN.plot.hist()"
      ],
      "execution_count": 4,
      "outputs": [
        {
          "output_type": "execute_result",
          "data": {
            "text/plain": [
              "<matplotlib.axes._subplots.AxesSubplot at 0x7f39e46a8610>"
            ]
          },
          "metadata": {
            "tags": []
          },
          "execution_count": 4
        },
        {
          "output_type": "display_data",
          "data": {
            "image/png": "[encoded data removed]",
            "text/plain": [
              "<Figure size 432x288 with 1 Axes>"
            ]
          },
          "metadata": {
            "tags": [],
            "needs_background": "light"
          }
        }
      ]
    },
    {
      "cell_type": "code",
      "metadata": {
        "id": "Nnp2TW0i8Zd6"
      },
      "source": [
        "cn_data['CN'] = cn_data.CN.clip(upper=100)"
      ],
      "execution_count": 5,
      "outputs": []
    },
    {
      "cell_type": "code",
      "metadata": {
        "id": "19z-1YSV1WpX"
      },
      "source": [
        "cn_test = cn_data.sample(frac=0.2, random_state=42)\n",
        "cn_train = cn_data[~cn_data.index.isin(cn_test.index)]"
      ],
      "execution_count": 6,
      "outputs": []
    },
    {
      "cell_type": "code",
      "metadata": {
        "id": "kqeMiBDX1rbF"
      },
      "source": [
        "def get_morgan_fingerprint(smiles, radius=2, nBits=1024):\n",
        "  mol = rdkit.Chem.MolFromSmiles(smiles)\n",
        "  bv = AllChem.GetMorganFingerprintAsBitVect(mol, radius, nBits=nBits)\n",
        "  return np.asarray(bv)\n",
        "\n",
        "def get_all_fingerprints(smiles_series):\n",
        "  fingerprints = np.vstack(smiles_series.apply(get_morgan_fingerprint).values)\n",
        "  return fingerprints"
      ],
      "execution_count": 7,
      "outputs": []
    },
    {
      "cell_type": "code",
      "metadata": {
        "id": "VSPX3nx61vYe"
      },
      "source": [
        "fingerprints_train = get_all_fingerprints(cn_train.SMILES)\n",
        "fingerprints_test = get_all_fingerprints(cn_test.SMILES)"
      ],
      "execution_count": 8,
      "outputs": []
    },
    {
      "cell_type": "code",
      "metadata": {
        "colab": {
          "base_uri": "https://localhost:8080/",
          "height": 36
        },
        "id": "Hbq6yBbt0A8Y",
        "outputId": "946b6477-a918-43b1-fc8a-6c0243ab29f2"
      },
      "source": [
        "%tensorflow_version 2.x\n",
        "import tensorflow as tf\n",
        "from tensorflow.keras import layers\n",
        "tf.__version__"
      ],
      "execution_count": 9,
      "outputs": [
        {
          "output_type": "execute_result",
          "data": {
            "application/vnd.google.colaboratory.intrinsic+json": {
              "type": "string"
            },
            "text/plain": [
              "'2.5.0'"
            ]
          },
          "metadata": {
            "tags": []
          },
          "execution_count": 9
        }
      ]
    },
    {
      "cell_type": "code",
      "metadata": {
        "id": "IRSOk6nm7cwJ"
      },
      "source": [
        "input = layers.Input(shape=(1024), name='fingerprint', dtype='int64')\n",
        "out = layers.Dense(128, activation='relu')(input)\n",
        "out = layers.BatchNormalization()(out)\n",
        "out = layers.Dense(64, activation='relu')(out)\n",
        "out = layers.BatchNormalization()(out)\n",
        "out = layers.Dense(1)(out)\n",
        "\n",
        "mlp_model = tf.keras.Model(input, out)"
      ],
      "execution_count": 10,
      "outputs": []
    },
    {
      "cell_type": "code",
      "metadata": {
        "id": "MHTTwtEo8FQh"
      },
      "source": [
        "opt = tf.keras.optimizers.Adam(learning_rate=1E-2)\n",
        "mlp_model.compile(optimizer=opt, loss='mae')"
      ],
      "execution_count": 11,
      "outputs": []
    },
    {
      "cell_type": "code",
      "metadata": {
        "colab": {
          "base_uri": "https://localhost:8080/"
        },
        "id": "pln8ZRnk8zC7",
        "outputId": "ac6f062e-d96d-4aa3-ea4c-7c2d40f23349"
      },
      "source": [
        "hist = mlp_model.fit(x=fingerprints_train, y=cn_train.CN,\n",
        "                     validation_data=(fingerprints_test, cn_test.CN),\n",
        "                     epochs=30, batch_size=32, verbose=2)"
      ],
      "execution_count": 12,
      "outputs": [
        {
          "output_type": "stream",
          "text": [
            "Epoch 1/30\n",
            "12/12 - 4s - loss: 36.5374 - val_loss: 35.7385\n",
            "Epoch 2/30\n",
            "12/12 - 0s - loss: 33.7969 - val_loss: 29.0149\n",
            "Epoch 3/30\n",
            "12/12 - 0s - loss: 28.6582 - val_loss: 19.6521\n",
            "Epoch 4/30\n",
            "12/12 - 0s - loss: 21.0990 - val_loss: 19.1395\n",
            "Epoch 5/30\n",
            "12/12 - 0s - loss: 12.8337 - val_loss: 28.4309\n",
            "Epoch 6/30\n",
            "12/12 - 0s - loss: 10.3609 - val_loss: 23.4249\n",
            "Epoch 7/30\n",
            "12/12 - 0s - loss: 8.6291 - val_loss: 25.8142\n",
            "Epoch 8/30\n",
            "12/12 - 0s - loss: 7.2522 - val_loss: 15.5921\n",
            "Epoch 9/30\n",
            "12/12 - 0s - loss: 7.0349 - val_loss: 21.7478\n",
            "Epoch 10/30\n",
            "12/12 - 0s - loss: 6.8082 - val_loss: 16.4362\n",
            "Epoch 11/30\n",
            "12/12 - 0s - loss: 7.3357 - val_loss: 21.6168\n",
            "Epoch 12/30\n",
            "12/12 - 0s - loss: 6.7724 - val_loss: 12.3016\n",
            "Epoch 13/30\n",
            "12/12 - 0s - loss: 7.4821 - val_loss: 13.7217\n",
            "Epoch 14/30\n",
            "12/12 - 0s - loss: 6.6015 - val_loss: 14.5864\n",
            "Epoch 15/30\n",
            "12/12 - 0s - loss: 6.1206 - val_loss: 12.0323\n",
            "Epoch 16/30\n",
            "12/12 - 0s - loss: 6.3363 - val_loss: 12.0013\n",
            "Epoch 17/30\n",
            "12/12 - 0s - loss: 6.1902 - val_loss: 11.7633\n",
            "Epoch 18/30\n",
            "12/12 - 0s - loss: 7.4854 - val_loss: 11.1019\n",
            "Epoch 19/30\n",
            "12/12 - 0s - loss: 5.6258 - val_loss: 12.4500\n",
            "Epoch 20/30\n",
            "12/12 - 0s - loss: 6.6279 - val_loss: 13.2124\n",
            "Epoch 21/30\n",
            "12/12 - 0s - loss: 6.6591 - val_loss: 11.1655\n",
            "Epoch 22/30\n",
            "12/12 - 0s - loss: 6.1869 - val_loss: 10.4046\n",
            "Epoch 23/30\n",
            "12/12 - 0s - loss: 5.3272 - val_loss: 12.2789\n",
            "Epoch 24/30\n",
            "12/12 - 0s - loss: 5.9237 - val_loss: 11.4263\n",
            "Epoch 25/30\n",
            "12/12 - 0s - loss: 6.3681 - val_loss: 12.4719\n",
            "Epoch 26/30\n",
            "12/12 - 0s - loss: 6.9068 - val_loss: 11.3980\n",
            "Epoch 27/30\n",
            "12/12 - 0s - loss: 6.6010 - val_loss: 10.5270\n",
            "Epoch 28/30\n",
            "12/12 - 0s - loss: 5.7391 - val_loss: 10.4850\n",
            "Epoch 29/30\n",
            "12/12 - 0s - loss: 6.4027 - val_loss: 11.1130\n",
            "Epoch 30/30\n",
            "12/12 - 0s - loss: 5.5408 - val_loss: 12.4218\n"
          ],
          "name": "stdout"
        }
      ]
    },
    {
      "cell_type": "code",
      "metadata": {
        "id": "LL6L4IZh9eLn"
      },
      "source": [
        "import matplotlib.pyplot as plt\n",
        "%matplotlib inline"
      ],
      "execution_count": 13,
      "outputs": []
    },
    {
      "cell_type": "code",
      "metadata": {
        "colab": {
          "base_uri": "https://localhost:8080/",
          "height": 282
        },
        "id": "UbSkC4sH9rDw",
        "outputId": "ce95d8b1-ba44-4506-a93e-a65efbdf51c5"
      },
      "source": [
        "pd.DataFrame(hist.history).plot.line()"
      ],
      "execution_count": 14,
      "outputs": [
        {
          "output_type": "execute_result",
          "data": {
            "text/plain": [
              "<matplotlib.axes._subplots.AxesSubplot at 0x7f394a0683d0>"
            ]
          },
          "metadata": {
            "tags": []
          },
          "execution_count": 14
        },
        {
          "output_type": "display_data",
          "data": {
            "image/png": "[encoded data removed]",
            "text/plain": [
              "<Figure size 432x288 with 1 Axes>"
            ]
          },
          "metadata": {
            "tags": [],
            "needs_background": "light"
          }
        }
      ]
    },
    {
      "cell_type": "code",
      "metadata": {
        "id": "1_ro1Uwp-hoO",
        "colab": {
          "base_uri": "https://localhost:8080/"
        },
        "outputId": "b78ff509-0a24-4909-bfff-7d8ba793eac4"
      },
      "source": [
        "mlp_model.predict(get_morgan_fingerprint('CC(C)COCC(C)C').reshape(1, -1))"
      ],
      "execution_count": 15,
      "outputs": [
        {
          "output_type": "execute_result",
          "data": {
            "text/plain": [
              "array([[61.117344]], dtype=float32)"
            ]
          },
          "metadata": {
            "tags": []
          },
          "execution_count": 15
        }
      ]
    },
    {
      "cell_type": "code",
      "metadata": {
        "colab": {
          "base_uri": "https://localhost:8080/"
        },
        "id": "mHeNwOgTspfo",
        "outputId": "bbaf72b7-c1fb-49e9-c4fc-16ccd5594126"
      },
      "source": [
        "!pip install nfp"
      ],
      "execution_count": 16,
      "outputs": [
        {
          "output_type": "stream",
          "text": [
            "Collecting nfp\n",
            "  Downloading nfp-0.2.1-py3-none-any.whl (14 kB)\n",
            "Requirement already satisfied: numpy in /usr/local/lib/python3.7/dist-packages (from nfp) (1.19.5)\n",
            "Requirement already satisfied: tensorflow>=2.0 in /usr/local/lib/python3.7/dist-packages (from nfp) (2.5.0)\n",
            "Requirement already satisfied: tqdm in /usr/local/lib/python3.7/dist-packages (from nfp) (4.41.1)\n",
            "Requirement already satisfied: keras-nightly~=2.5.0.dev in /usr/local/lib/python3.7/dist-packages (from tensorflow>=2.0->nfp) (2.5.0.dev2021032900)\n",
            "Requirement already satisfied: keras-preprocessing~=1.1.2 in /usr/local/lib/python3.7/dist-packages (from tensorflow>=2.0->nfp) (1.1.2)\n",
            "Requirement already satisfied: termcolor~=1.1.0 in /usr/local/lib/python3.7/dist-packages (from tensorflow>=2.0->nfp) (1.1.0)\n",
            "Requirement already satisfied: tensorboard~=2.5 in /usr/local/lib/python3.7/dist-packages (from tensorflow>=2.0->nfp) (2.5.0)\n",
            "Requirement already satisfied: google-pasta~=0.2 in /usr/local/lib/python3.7/dist-packages (from tensorflow>=2.0->nfp) (0.2.0)\n",
            "Requirement already satisfied: six~=1.15.0 in /usr/local/lib/python3.7/dist-packages (from tensorflow>=2.0->nfp) (1.15.0)\n",
            "Requirement already satisfied: wheel~=0.35 in /usr/local/lib/python3.7/dist-packages (from tensorflow>=2.0->nfp) (0.36.2)\n",
            "Requirement already satisfied: gast==0.4.0 in /usr/local/lib/python3.7/dist-packages (from tensorflow>=2.0->nfp) (0.4.0)\n",
            "Requirement already satisfied: astunparse~=1.6.3 in /usr/local/lib/python3.7/dist-packages (from tensorflow>=2.0->nfp) (1.6.3)\n",
            "Requirement already satisfied: wrapt~=1.12.1 in /usr/local/lib/python3.7/dist-packages (from tensorflow>=2.0->nfp) (1.12.1)\n",
            "Requirement already satisfied: protobuf>=3.9.2 in /usr/local/lib/python3.7/dist-packages (from tensorflow>=2.0->nfp) (3.17.3)\n",
            "Requirement already satisfied: absl-py~=0.10 in /usr/local/lib/python3.7/dist-packages (from tensorflow>=2.0->nfp) (0.12.0)\n",
            "Requirement already satisfied: flatbuffers~=1.12.0 in /usr/local/lib/python3.7/dist-packages (from tensorflow>=2.0->nfp) (1.12)\n",
            "Requirement already satisfied: typing-extensions~=3.7.4 in /usr/local/lib/python3.7/dist-packages (from tensorflow>=2.0->nfp) (3.7.4.3)\n",
            "Requirement already satisfied: h5py~=3.1.0 in /usr/local/lib/python3.7/dist-packages (from tensorflow>=2.0->nfp) (3.1.0)\n",
            "Requirement already satisfied: opt-einsum~=3.3.0 in /usr/local/lib/python3.7/dist-packages (from tensorflow>=2.0->nfp) (3.3.0)\n",
            "Requirement already satisfied: grpcio~=1.34.0 in /usr/local/lib/python3.7/dist-packages (from tensorflow>=2.0->nfp) (1.34.1)\n",
            "Requirement already satisfied: tensorflow-estimator<2.6.0,>=2.5.0rc0 in /usr/local/lib/python3.7/dist-packages (from tensorflow>=2.0->nfp) (2.5.0)\n",
            "Requirement already satisfied: cached-property in /usr/local/lib/python3.7/dist-packages (from h5py~=3.1.0->tensorflow>=2.0->nfp) (1.5.2)\n",
            "Requirement already satisfied: markdown>=2.6.8 in /usr/local/lib/python3.7/dist-packages (from tensorboard~=2.5->tensorflow>=2.0->nfp) (3.3.4)\n",
            "Requirement already satisfied: setuptools>=41.0.0 in /usr/local/lib/python3.7/dist-packages (from tensorboard~=2.5->tensorflow>=2.0->nfp) (57.2.0)\n",
            "Requirement already satisfied: werkzeug>=0.11.15 in /usr/local/lib/python3.7/dist-packages (from tensorboard~=2.5->tensorflow>=2.0->nfp) (1.0.1)\n",
            "Requirement already satisfied: tensorboard-data-server<0.7.0,>=0.6.0 in /usr/local/lib/python3.7/dist-packages (from tensorboard~=2.5->tensorflow>=2.0->nfp) (0.6.1)\n",
            "Requirement already satisfied: google-auth-oauthlib<0.5,>=0.4.1 in /usr/local/lib/python3.7/dist-packages (from tensorboard~=2.5->tensorflow>=2.0->nfp) (0.4.4)\n",
            "Requirement already satisfied: google-auth<2,>=1.6.3 in /usr/local/lib/python3.7/dist-packages (from tensorboard~=2.5->tensorflow>=2.0->nfp) (1.32.1)\n",
            "Requirement already satisfied: requests<3,>=2.21.0 in /usr/local/lib/python3.7/dist-packages (from tensorboard~=2.5->tensorflow>=2.0->nfp) (2.23.0)\n",
            "Requirement already satisfied: tensorboard-plugin-wit>=1.6.0 in /usr/local/lib/python3.7/dist-packages (from tensorboard~=2.5->tensorflow>=2.0->nfp) (1.8.0)\n",
            "Requirement already satisfied: rsa<5,>=3.1.4 in /usr/local/lib/python3.7/dist-packages (from google-auth<2,>=1.6.3->tensorboard~=2.5->tensorflow>=2.0->nfp) (4.7.2)\n",
            "Requirement already satisfied: cachetools<5.0,>=2.0.0 in /usr/local/lib/python3.7/dist-packages (from google-auth<2,>=1.6.3->tensorboard~=2.5->tensorflow>=2.0->nfp) (4.2.2)\n",
            "Requirement already satisfied: pyasn1-modules>=0.2.1 in /usr/local/lib/python3.7/dist-packages (from google-auth<2,>=1.6.3->tensorboard~=2.5->tensorflow>=2.0->nfp) (0.2.8)\n",
            "Requirement already satisfied: requests-oauthlib>=0.7.0 in /usr/local/lib/python3.7/dist-packages (from google-auth-oauthlib<0.5,>=0.4.1->tensorboard~=2.5->tensorflow>=2.0->nfp) (1.3.0)\n",
            "Requirement already satisfied: importlib-metadata in /usr/local/lib/python3.7/dist-packages (from markdown>=2.6.8->tensorboard~=2.5->tensorflow>=2.0->nfp) (4.6.1)\n",
            "Requirement already satisfied: pyasn1<0.5.0,>=0.4.6 in /usr/local/lib/python3.7/dist-packages (from pyasn1-modules>=0.2.1->google-auth<2,>=1.6.3->tensorboard~=2.5->tensorflow>=2.0->nfp) (0.4.8)\n",
            "Requirement already satisfied: chardet<4,>=3.0.2 in /usr/local/lib/python3.7/dist-packages (from requests<3,>=2.21.0->tensorboard~=2.5->tensorflow>=2.0->nfp) (3.0.4)\n",
            "Requirement already satisfied: certifi>=2017.4.17 in /usr/local/lib/python3.7/dist-packages (from requests<3,>=2.21.0->tensorboard~=2.5->tensorflow>=2.0->nfp) (2021.5.30)\n",
            "Requirement already satisfied: idna<3,>=2.5 in /usr/local/lib/python3.7/dist-packages (from requests<3,>=2.21.0->tensorboard~=2.5->tensorflow>=2.0->nfp) (2.10)\n",
            "Requirement already satisfied: urllib3!=1.25.0,!=1.25.1,<1.26,>=1.21.1 in /usr/local/lib/python3.7/dist-packages (from requests<3,>=2.21.0->tensorboard~=2.5->tensorflow>=2.0->nfp) (1.24.3)\n",
            "Requirement already satisfied: oauthlib>=3.0.0 in /usr/local/lib/python3.7/dist-packages (from requests-oauthlib>=0.7.0->google-auth-oauthlib<0.5,>=0.4.1->tensorboard~=2.5->tensorflow>=2.0->nfp) (3.1.1)\n",
            "Requirement already satisfied: zipp>=0.5 in /usr/local/lib/python3.7/dist-packages (from importlib-metadata->markdown>=2.6.8->tensorboard~=2.5->tensorflow>=2.0->nfp) (3.5.0)\n",
            "Installing collected packages: nfp\n",
            "Successfully installed nfp-0.2.1\n"
          ],
          "name": "stdout"
        }
      ]
    },
    {
      "cell_type": "code",
      "metadata": {
        "id": "1EPh8lO5srOX"
      },
      "source": [
        "import nfp\n",
        "from collections import namedtuple\n",
        "\n",
        "atom_type = namedtuple('Atom', ['symbol', 'aromatic', 'ring_size', 'degree', 'totalHs'])\n",
        "bond_type = namedtuple('Bond', ['bond_type', 'degree', 'ring_size'])\n",
        "\n",
        "def atom_featurizer(atom):\n",
        "    \"\"\" Return an string representing the atom type\n",
        "    \"\"\"\n",
        "\n",
        "    return atom_type(\n",
        "        atom.GetSymbol(),\n",
        "        atom.GetIsAromatic(),\n",
        "        nfp.get_ring_size(atom, max_size=6),\n",
        "        atom.GetDegree(),\n",
        "        atom.GetTotalNumHs(includeNeighbors=True)\n",
        "    )\n",
        "\n",
        "def bond_featurizer(bond, flipped=False):\n",
        "    \"\"\" Get a similar classification of the bond type.\n",
        "    Flipped indicates which 'direction' the bond edge is pointing. \"\"\"\n",
        "    \n",
        "    if not flipped:\n",
        "        atoms = \"{}-{}\".format(\n",
        "            *tuple((bond.GetBeginAtom().GetSymbol(),\n",
        "                    bond.GetEndAtom().GetSymbol())))\n",
        "    else:\n",
        "        atoms = \"{}-{}\".format(\n",
        "            *tuple((bond.GetEndAtom().GetSymbol(),\n",
        "                    bond.GetBeginAtom().GetSymbol())))\n",
        "    \n",
        "    btype = str(bond.GetBondType())\n",
        "    ring = nfp.get_ring_size(bond, max_size=6) if bond.IsInRing() else None\n",
        "    \n",
        "    return bond_type(atoms, btype, ring)"
      ],
      "execution_count": 17,
      "outputs": []
    },
    {
      "cell_type": "code",
      "metadata": {
        "id": "IWyw8dW7_9x5"
      },
      "source": [
        "mol = rdkit.Chem.MolFromSmiles('CC(C)COCC(C)C')"
      ],
      "execution_count": 18,
      "outputs": []
    },
    {
      "cell_type": "code",
      "metadata": {
        "colab": {
          "base_uri": "https://localhost:8080/"
        },
        "id": "JdDczHMiC7dH",
        "outputId": "3a8c4c88-1eb7-4eab-e6fd-254b345d0421"
      },
      "source": [
        "atom_featurizer(mol.GetAtoms()[0])"
      ],
      "execution_count": 19,
      "outputs": [
        {
          "output_type": "execute_result",
          "data": {
            "text/plain": [
              "Atom(symbol='C', aromatic=False, ring_size=0, degree=1, totalHs=3)"
            ]
          },
          "metadata": {
            "tags": []
          },
          "execution_count": 19
        }
      ]
    },
    {
      "cell_type": "code",
      "metadata": {
        "colab": {
          "base_uri": "https://localhost:8080/"
        },
        "id": "KOAAuLobEv7w",
        "outputId": "0030e157-9f59-485c-ad37-db597f64cb5a"
      },
      "source": [
        "bond_featurizer(mol.GetBonds()[0])"
      ],
      "execution_count": 20,
      "outputs": [
        {
          "output_type": "execute_result",
          "data": {
            "text/plain": [
              "Bond(bond_type='C-C', degree='SINGLE', ring_size=None)"
            ]
          },
          "metadata": {
            "tags": []
          },
          "execution_count": 20
        }
      ]
    },
    {
      "cell_type": "code",
      "metadata": {
        "id": "SBHgNxlpC9OX"
      },
      "source": [
        "preprocessor = nfp.SmilesPreprocessor(atom_features=atom_featurizer,\n",
        "                                      bond_features=bond_featurizer,\n",
        "                                      explicit_hs=False)"
      ],
      "execution_count": 21,
      "outputs": []
    },
    {
      "cell_type": "code",
      "metadata": {
        "colab": {
          "base_uri": "https://localhost:8080/"
        },
        "id": "qbhMir76E0Nf",
        "outputId": "04a3e728-c37e-402f-813b-f209556b6be4"
      },
      "source": [
        "pd.Series(preprocessor.atom_tokenizer._data)"
      ],
      "execution_count": 22,
      "outputs": [
        {
          "output_type": "execute_result",
          "data": {
            "text/plain": [
              "unk    1\n",
              "dtype: int64"
            ]
          },
          "metadata": {
            "tags": []
          },
          "execution_count": 22
        }
      ]
    },
    {
      "cell_type": "code",
      "metadata": {
        "id": "vLfHxfFPE1_W"
      },
      "source": [
        "for smiles in cn_train.SMILES: \n",
        "  preprocessor.construct_feature_matrices(smiles, train=True)"
      ],
      "execution_count": 23,
      "outputs": []
    },
    {
      "cell_type": "code",
      "metadata": {
        "colab": {
          "base_uri": "https://localhost:8080/"
        },
        "id": "mX-yiScNFFrK",
        "outputId": "0d1d78af-eded-4b94-d100-def2d3a03782"
      },
      "source": [
        "pd.Series(preprocessor.atom_tokenizer._data)"
      ],
      "execution_count": 24,
      "outputs": [
        {
          "output_type": "execute_result",
          "data": {
            "text/plain": [
              "unk                       1\n",
              "(C, False, 0, 1, 3)       2\n",
              "(C, False, 0, 2, 2)       3\n",
              "(O, False, 0, 1, 1)       4\n",
              "(C, False, 0, 2, 1)       5\n",
              "(O, False, 0, 1, 0)       6\n",
              "(C, False, max, 3, 1)     7\n",
              "(C, False, max, 2, 2)     8\n",
              "(C, False, 0, 3, 1)       9\n",
              "(C, False, 0, 4, 0)      10\n",
              "(O, False, 0, 2, 0)      11\n",
              "(C, False, 0, 3, 0)      12\n",
              "(C, False, 4, 4, 0)      13\n",
              "(C, False, 4, 2, 2)      14\n",
              "(O, False, 4, 2, 0)      15\n",
              "(C, False, 0, 1, 2)      16\n",
              "(C, False, 5, 2, 2)      17\n",
              "(C, False, max, 2, 1)    18\n",
              "(C, True, max, 3, 0)     19\n",
              "(C, True, max, 2, 1)     20\n",
              "(C, True, 5, 3, 0)       21\n",
              "(C, False, 5, 3, 1)      22\n",
              "(O, False, 5, 2, 0)      23\n",
              "(C, True, 5, 2, 1)       24\n",
              "(O, True, 5, 2, 0)       25\n",
              "(C, False, max, 3, 0)    26\n",
              "(C, False, 4, 3, 1)      27\n",
              "(O, False, max, 2, 0)    28\n",
              "(C, False, max, 4, 0)    29\n",
              "(C, False, 0, 1, 1)      30\n",
              "(C, False, 0, 2, 0)      31\n",
              "(C, False, 3, 3, 1)      32\n",
              "(C, False, 3, 4, 0)      33\n",
              "(C, False, 5, 3, 0)      34\n",
              "(C, False, 5, 2, 1)      35\n",
              "(C, False, 5, 4, 0)      36\n",
              "dtype: int64"
            ]
          },
          "metadata": {
            "tags": []
          },
          "execution_count": 24
        }
      ]
    },
    {
      "cell_type": "code",
      "metadata": {
        "colab": {
          "base_uri": "https://localhost:8080/"
        },
        "id": "wtwZKZgaFG73",
        "outputId": "1602753c-407b-488c-b88e-b1a33f3a419c"
      },
      "source": [
        "preprocessor.construct_feature_matrices('CCO', train=False)['atom']"
      ],
      "execution_count": 25,
      "outputs": [
        {
          "output_type": "execute_result",
          "data": {
            "text/plain": [
              "array([2, 3, 4])"
            ]
          },
          "metadata": {
            "tags": []
          },
          "execution_count": 25
        }
      ]
    },
    {
      "cell_type": "code",
      "metadata": {
        "colab": {
          "base_uri": "https://localhost:8080/"
        },
        "id": "2ZUP8sY0IjCI",
        "outputId": "eb1cc634-34f6-42f4-a0db-1cb9c5402310"
      },
      "source": [
        "preprocessor.construct_feature_matrices('CCO', train=False)['bond']"
      ],
      "execution_count": 26,
      "outputs": [
        {
          "output_type": "execute_result",
          "data": {
            "text/plain": [
              "array([2, 2, 3, 4])"
            ]
          },
          "metadata": {
            "tags": []
          },
          "execution_count": 26
        }
      ]
    },
    {
      "cell_type": "code",
      "metadata": {
        "colab": {
          "base_uri": "https://localhost:8080/"
        },
        "id": "AVj7kTfSI0NN",
        "outputId": "64e3c940-1151-447e-8312-6728545381f9"
      },
      "source": [
        "preprocessor.construct_feature_matrices('CCO', train=False)['connectivity']"
      ],
      "execution_count": 27,
      "outputs": [
        {
          "output_type": "execute_result",
          "data": {
            "text/plain": [
              "array([[0, 1],\n",
              "       [1, 0],\n",
              "       [1, 2],\n",
              "       [2, 1]])"
            ]
          },
          "metadata": {
            "tags": []
          },
          "execution_count": 27
        }
      ]
    },
    {
      "cell_type": "code",
      "metadata": {
        "id": "zYWAXyaOJIXO"
      },
      "source": [
        "def data_generator(cn_split):\n",
        "  for _, row in cn_split.iterrows():\n",
        "    inputs = preprocessor.construct_feature_matrices(row.SMILES, train=False)\n",
        "    yield ({'atom': inputs['atom'],\n",
        "            'bond': inputs['bond'],\n",
        "            'connectivity': inputs['connectivity']},\n",
        "           row.CN)\n",
        "\n",
        "output_signature = (\n",
        "    {'atom': tf.TensorSpec(shape=(None,), dtype=tf.int32),\n",
        "     'bond': tf.TensorSpec(shape=(None,), dtype=tf.int32),\n",
        "     'connectivity': tf.TensorSpec(shape=(None, 2), dtype=tf.int32)},\n",
        "    tf.TensorSpec(shape=(), dtype=tf.float32))"
      ],
      "execution_count": 28,
      "outputs": []
    },
    {
      "cell_type": "code",
      "metadata": {
        "id": "kv6euAcNI5Rb"
      },
      "source": [
        "train_dataset = tf.data.Dataset.from_generator(\n",
        "    lambda: data_generator(cn_train),\n",
        "    output_signature=output_signature)\\\n",
        "    .cache().shuffle(buffer_size=200)\\\n",
        "    .padded_batch(batch_size=32)\\\n",
        "    .prefetch(tf.data.experimental.AUTOTUNE)\n",
        "\n",
        "valid_dataset = tf.data.Dataset.from_generator(\n",
        "    lambda: data_generator(cn_test),\n",
        "    output_signature=output_signature)\\\n",
        "    .cache().shuffle(buffer_size=200)\\\n",
        "    .padded_batch(batch_size=32)\\\n",
        "    .prefetch(tf.data.experimental.AUTOTUNE)"
      ],
      "execution_count": 29,
      "outputs": []
    },
    {
      "cell_type": "markdown",
      "metadata": {
        "id": "bjxW-UN1Ns0H"
      },
      "source": [
        ""
      ]
    },
    {
      "cell_type": "code",
      "metadata": {
        "colab": {
          "base_uri": "https://localhost:8080/"
        },
        "id": "uSizqVzyL-pT",
        "outputId": "ffbb4c31-9a22-47ad-9b8c-741e099d6cad"
      },
      "source": [
        "for inputs, outputs in train_dataset.as_numpy_iterator():\n",
        "  break\n",
        "\n",
        "inputs['atom']"
      ],
      "execution_count": 30,
      "outputs": [
        {
          "output_type": "execute_result",
          "data": {
            "text/plain": [
              "array([[ 2,  3,  3,  3,  3,  9,  4,  3,  3,  2,  0,  0,  0,  0,  0,  0,\n",
              "         0,  0,  0,  0,  0],\n",
              "       [ 2,  3,  5,  5,  3,  3,  3,  2,  0,  0,  0,  0,  0,  0,  0,  0,\n",
              "         0,  0,  0,  0,  0],\n",
              "       [ 2,  3,  3,  3,  3,  3,  3,  3,  3,  4,  0,  0,  0,  0,  0,  0,\n",
              "         0,  0,  0,  0,  0],\n",
              "       [18, 18,  8,  8,  8,  8,  0,  0,  0,  0,  0,  0,  0,  0,  0,  0,\n",
              "         0,  0,  0,  0,  0],\n",
              "       [ 2, 19, 20, 20, 20, 19,  2, 19,  2,  0,  0,  0,  0,  0,  0,  0,\n",
              "         0,  0,  0,  0,  0],\n",
              "       [16,  5,  3,  3,  3,  3,  3,  3,  3,  3,  3,  2,  0,  0,  0,  0,\n",
              "         0,  0,  0,  0,  0],\n",
              "       [ 2,  9,  2, 11,  9,  2,  2,  0,  0,  0,  0,  0,  0,  0,  0,  0,\n",
              "         0,  0,  0,  0,  0],\n",
              "       [ 2,  3, 19, 20, 20, 20, 20, 20,  0,  0,  0,  0,  0,  0,  0,  0,\n",
              "         0,  0,  0,  0,  0],\n",
              "       [ 2,  9,  2, 10,  2,  2,  2,  0,  0,  0,  0,  0,  0,  0,  0,  0,\n",
              "         0,  0,  0,  0,  0],\n",
              "       [16,  5, 12,  2,  5,  3,  5, 12,  2,  3,  3,  5, 12,  2,  2,  0,\n",
              "         0,  0,  0,  0,  0],\n",
              "       [ 2, 11,  9, 11,  2, 19, 20, 20, 20, 20, 20,  0,  0,  0,  0,  0,\n",
              "         0,  0,  0,  0,  0],\n",
              "       [ 2,  3,  3,  3, 11,  3, 11,  3,  3,  3,  2,  0,  0,  0,  0,  0,\n",
              "         0,  0,  0,  0,  0],\n",
              "       [ 2,  3,  3,  3,  3,  3,  4,  0,  0,  0,  0,  0,  0,  0,  0,  0,\n",
              "         0,  0,  0,  0,  0],\n",
              "       [ 2,  3,  3,  3, 21, 24, 24, 24, 25,  0,  0,  0,  0,  0,  0,  0,\n",
              "         0,  0,  0,  0,  0],\n",
              "       [ 2,  3,  3,  3,  3, 12,  6,  3,  2,  0,  0,  0,  0,  0,  0,  0,\n",
              "         0,  0,  0,  0,  0],\n",
              "       [ 4,  3,  3, 19, 20, 20, 20, 20, 20,  0,  0,  0,  0,  0,  0,  0,\n",
              "         0,  0,  0,  0,  0],\n",
              "       [17, 17, 17, 23, 17,  0,  0,  0,  0,  0,  0,  0,  0,  0,  0,  0,\n",
              "         0,  0,  0,  0,  0],\n",
              "       [ 2,  9,  2,  3,  3, 11,  3,  3,  9,  2,  2,  0,  0,  0,  0,  0,\n",
              "         0,  0,  0,  0,  0],\n",
              "       [ 2,  3, 21, 24, 24, 24, 25,  0,  0,  0,  0,  0,  0,  0,  0,  0,\n",
              "         0,  0,  0,  0,  0],\n",
              "       [ 2,  3,  3,  3,  3,  3,  3,  3,  3,  3,  3,  3,  3,  3,  3,  3,\n",
              "         9,  2,  2,  0,  0],\n",
              "       [ 2, 12,  2,  5,  3,  3, 12,  2,  5,  3,  3, 12,  2,  5,  3,  4,\n",
              "         0,  0,  0,  0,  0],\n",
              "       [ 2,  3,  3,  3,  3,  3,  3,  5,  6,  0,  0,  0,  0,  0,  0,  0,\n",
              "         0,  0,  0,  0,  0],\n",
              "       [ 2,  3,  3,  3,  3,  3, 11,  3,  3,  3,  3,  3,  2,  0,  0,  0,\n",
              "         0,  0,  0,  0,  0],\n",
              "       [ 2,  3,  3,  3,  3, 12,  6, 11,  2,  0,  0,  0,  0,  0,  0,  0,\n",
              "         0,  0,  0,  0,  0],\n",
              "       [ 8,  8,  8,  7,  7,  8,  8,  8,  7,  8,  8,  8,  8,  7,  0,  0,\n",
              "         0,  0,  0,  0,  0],\n",
              "       [ 2, 11, 19, 20, 20, 20, 20, 19,  4,  0,  0,  0,  0,  0,  0,  0,\n",
              "         0,  0,  0,  0,  0],\n",
              "       [ 2,  3,  3,  3,  3,  3,  3,  3,  5,  5,  3,  3,  3,  3,  3,  3,\n",
              "         3, 12,  6, 11,  2],\n",
              "       [ 2,  3,  3,  3,  3,  9,  2,  4,  0,  0,  0,  0,  0,  0,  0,  0,\n",
              "         0,  0,  0,  0,  0],\n",
              "       [ 2,  3,  9,  2,  3,  3,  3,  9,  2,  3,  3,  3,  9,  2,  2,  0,\n",
              "         0,  0,  0,  0,  0],\n",
              "       [ 2,  7,  8,  8,  8,  7,  2,  8,  0,  0,  0,  0,  0,  0,  0,  0,\n",
              "         0,  0,  0,  0,  0],\n",
              "       [ 2,  3,  3,  5,  6,  0,  0,  0,  0,  0,  0,  0,  0,  0,  0,  0,\n",
              "         0,  0,  0,  0,  0],\n",
              "       [ 2,  3,  3,  3,  3,  3,  3,  3,  3,  3,  3,  3,  3,  3,  3,  3,\n",
              "         2,  0,  0,  0,  0]], dtype=int32)"
            ]
          },
          "metadata": {
            "tags": []
          },
          "execution_count": 30
        }
      ]
    },
    {
      "cell_type": "code",
      "metadata": {
        "colab": {
          "base_uri": "https://localhost:8080/"
        },
        "id": "DgOOVejWNoJL",
        "outputId": "8132b203-9e94-4d42-f81b-bb0bb49245de"
      },
      "source": [
        "outputs"
      ],
      "execution_count": 31,
      "outputs": [
        {
          "output_type": "execute_result",
          "data": {
            "text/plain": [
              "array([ 28.   ,  34.   ,  46.2  ,  18.1  ,  10.14 ,  56.8  ,   2.128,\n",
              "         6.29 ,  12.9  ,  31.72 ,  10.4  ,  70.   ,  22.96 ,  13.1  ,\n",
              "        36.   ,   8.   ,  21.9  ,  85.1  ,  10.2  , 100.   ,  24.04 ,\n",
              "        84.095, 100.   ,  16.375,  38.8  ,  19.3  ,  55.345,  24.65 ,\n",
              "        58.   ,  30.5  ,  41.1  , 100.   ], dtype=float32)"
            ]
          },
          "metadata": {
            "tags": []
          },
          "execution_count": 31
        }
      ]
    },
    {
      "cell_type": "code",
      "metadata": {
        "id": "upjaOJDWOhmP"
      },
      "source": [
        "atom = layers.Input(shape=[None], dtype=tf.int32, name='atom')\n",
        "bond = layers.Input(shape=[None], dtype=tf.int32, name='bond')\n",
        "connectivity = layers.Input(shape=[None, 2], dtype=tf.int32, name='connectivity')\n",
        "\n",
        "\n",
        "num_features = 128\n",
        "\n",
        "atom_state = layers.Embedding(preprocessor.atom_classes, num_features,\n",
        "                              name='atom_embedding', mask_zero=True)(atom)\n",
        "\n",
        "bond_state = layers.Embedding(preprocessor.bond_classes, num_features,\n",
        "                              name='bond_embedding', mask_zero=True)(bond)\n",
        "\n",
        "atom_mean = layers.Embedding(preprocessor.atom_classes, 1,\n",
        "                             name='atom_mean', mask_zero=True)(atom)\n",
        "\n",
        "for _ in range(6):\n",
        "  new_bond_state = nfp.EdgeUpdate()([atom_state, bond_state, connectivity])\n",
        "  bond_state = layers.Add()([bond_state, new_bond_state])\n",
        "\n",
        "  new_atom_state = nfp.NodeUpdate()([atom_state, bond_state, connectivity])\n",
        "  atom_state = layers.Add()([atom_state, new_atom_state])\n",
        "\n",
        "atomwise_prediction = layers.Dense(1)(atom_state)\n",
        "atomwise_prediction = layers.Add()([atomwise_prediction, atom_mean])\n",
        "mol_prediction = layers.GlobalAveragePooling1D()(atomwise_prediction)\n",
        "\n",
        "gnn_model = tf.keras.Model([atom, bond, connectivity], [mol_prediction])"
      ],
      "execution_count": 65,
      "outputs": []
    },
    {
      "cell_type": "code",
      "metadata": {
        "colab": {
          "base_uri": "https://localhost:8080/"
        },
        "id": "NZSo6K9qTNQo",
        "outputId": "e4dbebaf-cbca-4cdf-cf1e-7da53818963f"
      },
      "source": [
        "!pip install -U tensorflow-addons\n",
        "import tensorflow_addons as tfa"
      ],
      "execution_count": 50,
      "outputs": [
        {
          "output_type": "stream",
          "text": [
            "Requirement already satisfied: tensorflow-addons in /usr/local/lib/python3.7/dist-packages (0.13.0)\n",
            "Requirement already satisfied: typeguard>=2.7 in /usr/local/lib/python3.7/dist-packages (from tensorflow-addons) (2.7.1)\n"
          ],
          "name": "stdout"
        }
      ]
    },
    {
      "cell_type": "code",
      "metadata": {
        "id": "0k3Z5vAkRhS3"
      },
      "source": [
        "optimizer = tfa.optimizers.AdamW(learning_rate=1E-4, weight_decay=1E-5)\n",
        "gnn_model.compile(optimizer, loss='mae')"
      ],
      "execution_count": 66,
      "outputs": []
    },
    {
      "cell_type": "code",
      "metadata": {
        "colab": {
          "base_uri": "https://localhost:8080/"
        },
        "id": "egFfMnLqTrNu",
        "outputId": "155e97e7-105e-4e9d-8b53-7734589ece02"
      },
      "source": [
        "hist = gnn_model.fit(train_dataset, validation_data=valid_dataset, epochs=50, verbose=2)"
      ],
      "execution_count": 67,
      "outputs": [
        {
          "output_type": "stream",
          "text": [
            "Epoch 1/50\n",
            "12/12 - 10s - loss: 28.3225 - val_loss: 20.0013\n",
            "Epoch 2/50\n",
            "12/12 - 0s - loss: 15.7225 - val_loss: 16.0995\n",
            "Epoch 3/50\n",
            "12/12 - 0s - loss: 13.7863 - val_loss: 13.0886\n",
            "Epoch 4/50\n",
            "12/12 - 0s - loss: 12.5590 - val_loss: 11.9766\n",
            "Epoch 5/50\n",
            "12/12 - 0s - loss: 11.8974 - val_loss: 11.0293\n",
            "Epoch 6/50\n",
            "12/12 - 0s - loss: 10.9250 - val_loss: 10.4935\n",
            "Epoch 7/50\n",
            "12/12 - 0s - loss: 10.1757 - val_loss: 10.9308\n",
            "Epoch 8/50\n",
            "12/12 - 0s - loss: 11.0039 - val_loss: 11.0373\n",
            "Epoch 9/50\n",
            "12/12 - 0s - loss: 10.1954 - val_loss: 9.3493\n",
            "Epoch 10/50\n",
            "12/12 - 0s - loss: 9.5615 - val_loss: 9.4898\n",
            "Epoch 11/50\n",
            "12/12 - 0s - loss: 9.3116 - val_loss: 9.8900\n",
            "Epoch 12/50\n",
            "12/12 - 0s - loss: 9.5327 - val_loss: 11.1258\n",
            "Epoch 13/50\n",
            "12/12 - 0s - loss: 9.1660 - val_loss: 9.8397\n",
            "Epoch 14/50\n",
            "12/12 - 0s - loss: 8.7033 - val_loss: 8.3584\n",
            "Epoch 15/50\n",
            "12/12 - 0s - loss: 8.9833 - val_loss: 9.5851\n",
            "Epoch 16/50\n",
            "12/12 - 0s - loss: 8.7066 - val_loss: 8.6730\n",
            "Epoch 17/50\n",
            "12/12 - 0s - loss: 8.2686 - val_loss: 8.9928\n",
            "Epoch 18/50\n",
            "12/12 - 0s - loss: 8.2509 - val_loss: 9.0327\n",
            "Epoch 19/50\n",
            "12/12 - 0s - loss: 8.1331 - val_loss: 11.1103\n",
            "Epoch 20/50\n",
            "12/12 - 0s - loss: 7.7601 - val_loss: 8.8156\n",
            "Epoch 21/50\n",
            "12/12 - 0s - loss: 7.2795 - val_loss: 8.0153\n",
            "Epoch 22/50\n",
            "12/12 - 0s - loss: 7.1103 - val_loss: 8.7652\n",
            "Epoch 23/50\n",
            "12/12 - 0s - loss: 7.0157 - val_loss: 9.7977\n",
            "Epoch 24/50\n",
            "12/12 - 0s - loss: 6.8110 - val_loss: 7.8286\n",
            "Epoch 25/50\n",
            "12/12 - 0s - loss: 7.3575 - val_loss: 9.1744\n",
            "Epoch 26/50\n",
            "12/12 - 0s - loss: 6.7420 - val_loss: 8.1405\n",
            "Epoch 27/50\n",
            "12/12 - 0s - loss: 6.5996 - val_loss: 8.9595\n",
            "Epoch 28/50\n",
            "12/12 - 0s - loss: 6.6250 - val_loss: 8.4680\n",
            "Epoch 29/50\n",
            "12/12 - 0s - loss: 6.1164 - val_loss: 7.5036\n",
            "Epoch 30/50\n",
            "12/12 - 0s - loss: 6.0239 - val_loss: 7.7292\n",
            "Epoch 31/50\n",
            "12/12 - 0s - loss: 6.2582 - val_loss: 7.9790\n",
            "Epoch 32/50\n",
            "12/12 - 0s - loss: 6.6276 - val_loss: 8.8232\n",
            "Epoch 33/50\n",
            "12/12 - 0s - loss: 7.6067 - val_loss: 7.6366\n",
            "Epoch 34/50\n",
            "12/12 - 0s - loss: 6.5273 - val_loss: 7.5480\n",
            "Epoch 35/50\n",
            "12/12 - 0s - loss: 5.9018 - val_loss: 7.6380\n",
            "Epoch 36/50\n",
            "12/12 - 0s - loss: 5.6100 - val_loss: 7.1010\n",
            "Epoch 37/50\n",
            "12/12 - 0s - loss: 5.9290 - val_loss: 8.5155\n",
            "Epoch 38/50\n",
            "12/12 - 0s - loss: 6.2272 - val_loss: 6.8726\n",
            "Epoch 39/50\n",
            "12/12 - 0s - loss: 6.1367 - val_loss: 8.1892\n",
            "Epoch 40/50\n",
            "12/12 - 0s - loss: 5.6505 - val_loss: 7.3035\n",
            "Epoch 41/50\n",
            "12/12 - 0s - loss: 6.1242 - val_loss: 7.2986\n",
            "Epoch 42/50\n",
            "12/12 - 0s - loss: 5.6504 - val_loss: 7.5330\n",
            "Epoch 43/50\n",
            "12/12 - 0s - loss: 5.4831 - val_loss: 7.0574\n",
            "Epoch 44/50\n",
            "12/12 - 0s - loss: 5.1563 - val_loss: 7.4127\n",
            "Epoch 45/50\n",
            "12/12 - 0s - loss: 7.0333 - val_loss: 8.3214\n",
            "Epoch 46/50\n",
            "12/12 - 0s - loss: 5.8521 - val_loss: 7.5816\n",
            "Epoch 47/50\n",
            "12/12 - 0s - loss: 6.4120 - val_loss: 6.9002\n",
            "Epoch 48/50\n",
            "12/12 - 0s - loss: 6.0434 - val_loss: 9.2589\n",
            "Epoch 49/50\n",
            "12/12 - 0s - loss: 5.4662 - val_loss: 7.3267\n",
            "Epoch 50/50\n",
            "12/12 - 0s - loss: 5.4207 - val_loss: 7.3233\n"
          ],
          "name": "stdout"
        }
      ]
    },
    {
      "cell_type": "code",
      "metadata": {
        "colab": {
          "base_uri": "https://localhost:8080/",
          "height": 282
        },
        "id": "akDYtQ_7T4kU",
        "outputId": "37b062b6-3a09-4b66-ddfd-2d405651ede1"
      },
      "source": [
        "pd.DataFrame(hist.history).plot.line()"
      ],
      "execution_count": 68,
      "outputs": [
        {
          "output_type": "execute_result",
          "data": {
            "text/plain": [
              "<matplotlib.axes._subplots.AxesSubplot at 0x7f3903145a10>"
            ]
          },
          "metadata": {
            "tags": []
          },
          "execution_count": 68
        },
        {
          "output_type": "display_data",
          "data": {
            "image/png": "[encoded data removed]",
            "text/plain": [
              "<Figure size 432x288 with 1 Axes>"
            ]
          },
          "metadata": {
            "tags": [],
            "needs_background": "light"
          }
        }
      ]
    },
    {
      "cell_type": "code",
      "metadata": {
        "colab": {
          "base_uri": "https://localhost:8080/"
        },
        "id": "xLn4rXQnWLHh",
        "outputId": "ecaba072-b5f5-4bfc-ba82-7a260d6d4911"
      },
      "source": [
        "nfp.preprocessing.fil"
      ],
      "execution_count": 71,
      "outputs": [
        {
          "output_type": "execute_result",
          "data": {
            "text/plain": [
              "<module 'nfp.preprocessing' from '/usr/local/lib/python3.7/dist-packages/nfp/preprocessing/__init__.py'>"
            ]
          },
          "metadata": {
            "tags": []
          },
          "execution_count": 71
        }
      ]
    },
    {
      "cell_type": "code",
      "metadata": {
        "colab": {
          "base_uri": "https://localhost:8080/"
        },
        "id": "7ot82oIrWitB",
        "outputId": "58850407-0052-426e-a2b6-1e90fce7fd07"
      },
      "source": [
        "np.expand_dims(inputs['connectivity'], axis=0).shape"
      ],
      "execution_count": 77,
      "outputs": [
        {
          "output_type": "execute_result",
          "data": {
            "text/plain": [
              "(1, 16, 2)"
            ]
          },
          "metadata": {
            "tags": []
          },
          "execution_count": 77
        }
      ]
    },
    {
      "cell_type": "code",
      "metadata": {
        "colab": {
          "base_uri": "https://localhost:8080/"
        },
        "id": "WcKfEDLZVsK6",
        "outputId": "f5c7d201-82bd-44f3-f36b-4fde232f9836"
      },
      "source": [
        "inputs = preprocessor.construct_feature_matrices('CC(C)COCC(C)C')\n",
        "gnn_model.predict({key: np.expand_dims(inputs[key], axis=0) for key in ['atom', 'bond', 'connectivity']})"
      ],
      "execution_count": 78,
      "outputs": [
        {
          "output_type": "execute_result",
          "data": {
            "text/plain": [
              "array([[67.96338]], dtype=float32)"
            ]
          },
          "metadata": {
            "tags": []
          },
          "execution_count": 78
        }
      ]
    }
  ]
}