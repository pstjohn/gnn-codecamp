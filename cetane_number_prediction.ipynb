{
  "nbformat": 4,
  "nbformat_minor": 0,
  "metadata": {
    "colab": {
      "name": "cetane_number_prediction.ipynb",
      "provenance": [],
      "collapsed_sections": [],
      "authorship_tag": "ABX9TyP3rTBOz9uR6wABbrvloC39",
      "include_colab_link": true
    },
    "kernelspec": {
      "name": "python3",
      "display_name": "Python 3"
    },
    "language_info": {
      "name": "python"
    },
    "accelerator": "GPU"
  },
  "cells": [
    {
      "cell_type": "markdown",
      "metadata": {
        "id": "view-in-github",
        "colab_type": "text"
      },
      "source": [
        "<a href=\"https://colab.research.google.com/github/pstjohn/gnn-codecamp/blob/main/cetane_number_prediction.ipynb\" target=\"_parent\"><img src=\"https://colab.research.google.com/assets/colab-badge.svg\" alt=\"Open In Colab\"/></a>"
      ]
    },
    {
      "cell_type": "markdown",
      "metadata": {
        "id": "IR-xdEKtsJTm"
      },
      "source": [
        "## Enabling the GPU\n",
        "\n",
        "First, you'll need to enable GPUs for the notebook:\n",
        "\n",
        "- Navigate to Edit→Notebook Settings\n",
        "- select GPU from the Hardware Accelerator drop-down"
      ]
    },
    {
      "cell_type": "code",
      "metadata": {
        "id": "yw4WnPKq0Q6e",
        "colab": {
          "base_uri": "https://localhost:8080/"
        },
        "outputId": "fcc0b916-eeff-4fec-e3ce-b22565524b60"
      },
      "source": [
        "!pip install rdkit-pypi"
      ],
      "execution_count": 1,
      "outputs": [
        {
          "output_type": "stream",
          "text": [
            "Requirement already satisfied: rdkit-pypi in /usr/local/lib/python3.7/dist-packages (2021.3.4)\n",
            "Requirement already satisfied: numpy>=1.19 in /usr/local/lib/python3.7/dist-packages (from rdkit-pypi) (1.19.5)\n"
          ],
          "name": "stdout"
        }
      ]
    },
    {
      "cell_type": "code",
      "metadata": {
        "id": "8F8jp8J_0NHc"
      },
      "source": [
        "import numpy as np\n",
        "import pandas as pd\n",
        "\n",
        "import rdkit\n",
        "from rdkit.Chem import AllChem"
      ],
      "execution_count": 2,
      "outputs": []
    },
    {
      "cell_type": "code",
      "metadata": {
        "colab": {
          "base_uri": "https://localhost:8080/",
          "height": 206
        },
        "id": "KsA4E0H1wp2p",
        "outputId": "2005c92c-22a1-4e10-e55f-b04737d29d91"
      },
      "source": [
        "cn_data = pd.read_csv('https://raw.githubusercontent.com/pstjohn/gnn-codecamp/main/cn.csv')\n",
        "cn_data.head()"
      ],
      "execution_count": 3,
      "outputs": [
        {
          "output_type": "execute_result",
          "data": {
            "text/html": [
              "<div>\n",
              "<style scoped>\n",
              "    .dataframe tbody tr th:only-of-type {\n",
              "        vertical-align: middle;\n",
              "    }\n",
              "\n",
              "    .dataframe tbody tr th {\n",
              "        vertical-align: top;\n",
              "    }\n",
              "\n",
              "    .dataframe thead th {\n",
              "        text-align: right;\n",
              "    }\n",
              "</style>\n",
              "<table border=\"1\" class=\"dataframe\">\n",
              "  <thead>\n",
              "    <tr style=\"text-align: right;\">\n",
              "      <th></th>\n",
              "      <th>SMILES</th>\n",
              "      <th>IUPAC name</th>\n",
              "      <th>CN</th>\n",
              "      <th>Device</th>\n",
              "    </tr>\n",
              "  </thead>\n",
              "  <tbody>\n",
              "    <tr>\n",
              "      <th>0</th>\n",
              "      <td>CCCCCCC</td>\n",
              "      <td>heptane</td>\n",
              "      <td>57.600</td>\n",
              "      <td>AFIDA</td>\n",
              "    </tr>\n",
              "    <tr>\n",
              "      <th>1</th>\n",
              "      <td>CCCCCCCCCCCCO</td>\n",
              "      <td>dodecan-1-ol</td>\n",
              "      <td>51.605</td>\n",
              "      <td>AFIDA</td>\n",
              "    </tr>\n",
              "    <tr>\n",
              "      <th>2</th>\n",
              "      <td>CCCC=O</td>\n",
              "      <td>butanal</td>\n",
              "      <td>38.315</td>\n",
              "      <td>AFIDA</td>\n",
              "    </tr>\n",
              "    <tr>\n",
              "      <th>3</th>\n",
              "      <td>CC1CCCCC1</td>\n",
              "      <td>methylcyclohexane</td>\n",
              "      <td>17.355</td>\n",
              "      <td>AFIDA</td>\n",
              "    </tr>\n",
              "    <tr>\n",
              "      <th>4</th>\n",
              "      <td>CC(C)CC(C)(C)C</td>\n",
              "      <td>2,2,4-trimethylpentane</td>\n",
              "      <td>5.200</td>\n",
              "      <td>AFIDA</td>\n",
              "    </tr>\n",
              "  </tbody>\n",
              "</table>\n",
              "</div>"
            ],
            "text/plain": [
              "           SMILES              IUPAC name      CN Device\n",
              "0         CCCCCCC                 heptane  57.600  AFIDA\n",
              "1   CCCCCCCCCCCCO            dodecan-1-ol  51.605  AFIDA\n",
              "2          CCCC=O                 butanal  38.315  AFIDA\n",
              "3       CC1CCCCC1       methylcyclohexane  17.355  AFIDA\n",
              "4  CC(C)CC(C)(C)C  2,2,4-trimethylpentane   5.200  AFIDA"
            ]
          },
          "metadata": {
            "tags": []
          },
          "execution_count": 3
        }
      ]
    },
    {
      "cell_type": "code",
      "metadata": {
        "colab": {
          "base_uri": "https://localhost:8080/",
          "height": 282
        },
        "id": "0HmxZ7Th8Spb",
        "outputId": "f72dca7b-5a48-4c65-eb37-0b18848ec90a"
      },
      "source": [
        "cn_data.CN.plot.hist()"
      ],
      "execution_count": 4,
      "outputs": [
        {
          "output_type": "execute_result",
          "data": {
            "text/plain": [
              "<matplotlib.axes._subplots.AxesSubplot at 0x7f542a348190>"
            ]
          },
          "metadata": {
            "tags": []
          },
          "execution_count": 4
        },
        {
          "output_type": "display_data",
          "data": {
            "image/png": "[encoded data removed]",
            "text/plain": [
              "<Figure size 432x288 with 1 Axes>"
            ]
          },
          "metadata": {
            "tags": [],
            "needs_background": "light"
          }
        }
      ]
    },
    {
      "cell_type": "code",
      "metadata": {
        "id": "Nnp2TW0i8Zd6"
      },
      "source": [
        "cn_data['CN'] = cn_data.CN.clip(upper=100)"
      ],
      "execution_count": 5,
      "outputs": []
    },
    {
      "cell_type": "code",
      "metadata": {
        "id": "19z-1YSV1WpX"
      },
      "source": [
        "cn_test = cn_data.sample(frac=0.2, random_state=42)\n",
        "cn_train = cn_data[~cn_data.index.isin(cn_test.index)]"
      ],
      "execution_count": 6,
      "outputs": []
    },
    {
      "cell_type": "code",
      "metadata": {
        "id": "kqeMiBDX1rbF"
      },
      "source": [
        "def get_morgan_fingerprint(smiles, radius=2, nBits=1024):\n",
        "  mol = rdkit.Chem.MolFromSmiles(smiles)\n",
        "  bv = AllChem.GetMorganFingerprintAsBitVect(mol, radius, nBits=nBits)\n",
        "  return np.asarray(bv)\n",
        "\n",
        "def get_all_fingerprints(smiles_series):\n",
        "  fingerprints = np.vstack(smiles_series.apply(get_morgan_fingerprint).values)\n",
        "  return fingerprints"
      ],
      "execution_count": 7,
      "outputs": []
    },
    {
      "cell_type": "code",
      "metadata": {
        "id": "VSPX3nx61vYe"
      },
      "source": [
        "fingerprints_train = get_all_fingerprints(cn_train.SMILES)\n",
        "fingerprints_test = get_all_fingerprints(cn_test.SMILES)"
      ],
      "execution_count": 8,
      "outputs": []
    },
    {
      "cell_type": "code",
      "metadata": {
        "colab": {
          "base_uri": "https://localhost:8080/",
          "height": 36
        },
        "id": "Hbq6yBbt0A8Y",
        "outputId": "b7a7e7af-7768-42ee-9d1f-b37a4c921e20"
      },
      "source": [
        "%tensorflow_version 2.x\n",
        "import tensorflow as tf\n",
        "from tensorflow.keras import layers\n",
        "tf.__version__"
      ],
      "execution_count": 9,
      "outputs": [
        {
          "output_type": "execute_result",
          "data": {
            "application/vnd.google.colaboratory.intrinsic+json": {
              "type": "string"
            },
            "text/plain": [
              "'2.5.0'"
            ]
          },
          "metadata": {
            "tags": []
          },
          "execution_count": 9
        }
      ]
    },
    {
      "cell_type": "code",
      "metadata": {
        "id": "IRSOk6nm7cwJ"
      },
      "source": [
        "input = layers.Input(shape=(1024), name='fingerprint', dtype='int64')\n",
        "out = layers.Dense(128, activation='relu')(input)\n",
        "out = layers.BatchNormalization()(out)\n",
        "out = layers.Dense(64, activation='relu')(out)\n",
        "out = layers.BatchNormalization()(out)\n",
        "out = layers.Dense(1)(out)\n",
        "\n",
        "mlp_model = tf.keras.Model(input, out)"
      ],
      "execution_count": 10,
      "outputs": []
    },
    {
      "cell_type": "code",
      "metadata": {
        "id": "MHTTwtEo8FQh"
      },
      "source": [
        "opt = tf.keras.optimizers.Adam(learning_rate=1E-2)\n",
        "mlp_model.compile(optimizer=opt, loss='mae')"
      ],
      "execution_count": 11,
      "outputs": []
    },
    {
      "cell_type": "code",
      "metadata": {
        "colab": {
          "base_uri": "https://localhost:8080/"
        },
        "id": "pln8ZRnk8zC7",
        "outputId": "e9977188-8b8f-4ed1-c614-0e214859de7e"
      },
      "source": [
        "hist = mlp_model.fit(x=fingerprints_train, y=cn_train.CN,\n",
        "                     validation_data=(fingerprints_test, cn_test.CN),\n",
        "                     epochs=30, batch_size=32, verbose=2)"
      ],
      "execution_count": 12,
      "outputs": [
        {
          "output_type": "stream",
          "text": [
            "Epoch 1/30\n",
            "12/12 - 1s - loss: 36.3798 - val_loss: 37.2450\n",
            "Epoch 2/30\n",
            "12/12 - 0s - loss: 33.3452 - val_loss: 26.9556\n",
            "Epoch 3/30\n",
            "12/12 - 0s - loss: 27.9581 - val_loss: 16.2326\n",
            "Epoch 4/30\n",
            "12/12 - 0s - loss: 20.2867 - val_loss: 17.1705\n",
            "Epoch 5/30\n",
            "12/12 - 0s - loss: 12.7326 - val_loss: 27.5850\n",
            "Epoch 6/30\n",
            "12/12 - 0s - loss: 10.3729 - val_loss: 24.3668\n",
            "Epoch 7/30\n",
            "12/12 - 0s - loss: 8.4761 - val_loss: 15.3061\n",
            "Epoch 8/30\n",
            "12/12 - 0s - loss: 8.3823 - val_loss: 21.3305\n",
            "Epoch 9/30\n",
            "12/12 - 0s - loss: 7.3135 - val_loss: 16.0715\n",
            "Epoch 10/30\n",
            "12/12 - 0s - loss: 7.2686 - val_loss: 15.4526\n",
            "Epoch 11/30\n",
            "12/12 - 0s - loss: 6.9520 - val_loss: 13.8154\n",
            "Epoch 12/30\n",
            "12/12 - 0s - loss: 6.2418 - val_loss: 15.3910\n",
            "Epoch 13/30\n",
            "12/12 - 0s - loss: 7.0955 - val_loss: 12.3067\n",
            "Epoch 14/30\n",
            "12/12 - 0s - loss: 6.2247 - val_loss: 12.8394\n",
            "Epoch 15/30\n",
            "12/12 - 0s - loss: 6.9643 - val_loss: 10.6590\n",
            "Epoch 16/30\n",
            "12/12 - 0s - loss: 6.3129 - val_loss: 11.6935\n",
            "Epoch 17/30\n",
            "12/12 - 0s - loss: 5.9140 - val_loss: 12.5335\n",
            "Epoch 18/30\n",
            "12/12 - 0s - loss: 6.1345 - val_loss: 11.1596\n",
            "Epoch 19/30\n",
            "12/12 - 0s - loss: 6.1529 - val_loss: 12.2362\n",
            "Epoch 20/30\n",
            "12/12 - 0s - loss: 5.8510 - val_loss: 10.6282\n",
            "Epoch 21/30\n",
            "12/12 - 0s - loss: 5.5762 - val_loss: 10.2923\n",
            "Epoch 22/30\n",
            "12/12 - 0s - loss: 6.4560 - val_loss: 11.5252\n",
            "Epoch 23/30\n",
            "12/12 - 0s - loss: 6.7187 - val_loss: 10.2376\n",
            "Epoch 24/30\n",
            "12/12 - 0s - loss: 6.3121 - val_loss: 11.1740\n",
            "Epoch 25/30\n",
            "12/12 - 0s - loss: 6.6886 - val_loss: 10.0408\n",
            "Epoch 26/30\n",
            "12/12 - 0s - loss: 5.7065 - val_loss: 10.2368\n",
            "Epoch 27/30\n",
            "12/12 - 0s - loss: 6.7774 - val_loss: 11.3266\n",
            "Epoch 28/30\n",
            "12/12 - 0s - loss: 5.4100 - val_loss: 11.5743\n",
            "Epoch 29/30\n",
            "12/12 - 0s - loss: 5.5044 - val_loss: 11.3524\n",
            "Epoch 30/30\n",
            "12/12 - 0s - loss: 6.2729 - val_loss: 11.6823\n"
          ],
          "name": "stdout"
        }
      ]
    },
    {
      "cell_type": "code",
      "metadata": {
        "id": "LL6L4IZh9eLn"
      },
      "source": [
        "import matplotlib.pyplot as plt\n",
        "%matplotlib inline"
      ],
      "execution_count": 13,
      "outputs": []
    },
    {
      "cell_type": "code",
      "metadata": {
        "colab": {
          "base_uri": "https://localhost:8080/",
          "height": 282
        },
        "id": "UbSkC4sH9rDw",
        "outputId": "ca683c31-8506-44a9-d749-6e437aa62cda"
      },
      "source": [
        "pd.DataFrame(hist.history).plot.line()"
      ],
      "execution_count": 14,
      "outputs": [
        {
          "output_type": "execute_result",
          "data": {
            "text/plain": [
              "<matplotlib.axes._subplots.AxesSubplot at 0x7f53d01642d0>"
            ]
          },
          "metadata": {
            "tags": []
          },
          "execution_count": 14
        },
        {
          "output_type": "display_data",
          "data": {
            "image/png": "[encoded data removed]",
            "text/plain": [
              "<Figure size 432x288 with 1 Axes>"
            ]
          },
          "metadata": {
            "tags": [],
            "needs_background": "light"
          }
        }
      ]
    },
    {
      "cell_type": "code",
      "metadata": {
        "id": "1_ro1Uwp-hoO",
        "colab": {
          "base_uri": "https://localhost:8080/"
        },
        "outputId": "fe89a45f-d4cb-4ddb-e9fa-299667fd8ba7"
      },
      "source": [
        "mlp_model.predict(get_morgan_fingerprint('CC(C)COCC(C)C').reshape(1, -1))"
      ],
      "execution_count": 15,
      "outputs": [
        {
          "output_type": "execute_result",
          "data": {
            "text/plain": [
              "array([[71.30717]], dtype=float32)"
            ]
          },
          "metadata": {
            "tags": []
          },
          "execution_count": 15
        }
      ]
    },
    {
      "cell_type": "code",
      "metadata": {
        "colab": {
          "base_uri": "https://localhost:8080/"
        },
        "id": "mHeNwOgTspfo",
        "outputId": "174cfe3c-3dcc-4c6d-b163-e06130b59dda"
      },
      "source": [
        "!pip install nfp"
      ],
      "execution_count": 16,
      "outputs": [
        {
          "output_type": "stream",
          "text": [
            "Requirement already satisfied: nfp in /usr/local/lib/python3.7/dist-packages (0.3.0)\n",
            "Requirement already satisfied: tensorflow>=2.0 in /usr/local/lib/python3.7/dist-packages (from nfp) (2.5.0)\n",
            "Requirement already satisfied: tqdm in /usr/local/lib/python3.7/dist-packages (from nfp) (4.41.1)\n",
            "Requirement already satisfied: numpy in /usr/local/lib/python3.7/dist-packages (from nfp) (1.19.5)\n",
            "Requirement already satisfied: opt-einsum~=3.3.0 in /usr/local/lib/python3.7/dist-packages (from tensorflow>=2.0->nfp) (3.3.0)\n",
            "Requirement already satisfied: flatbuffers~=1.12.0 in /usr/local/lib/python3.7/dist-packages (from tensorflow>=2.0->nfp) (1.12)\n",
            "Requirement already satisfied: absl-py~=0.10 in /usr/local/lib/python3.7/dist-packages (from tensorflow>=2.0->nfp) (0.12.0)\n",
            "Requirement already satisfied: google-pasta~=0.2 in /usr/local/lib/python3.7/dist-packages (from tensorflow>=2.0->nfp) (0.2.0)\n",
            "Requirement already satisfied: keras-preprocessing~=1.1.2 in /usr/local/lib/python3.7/dist-packages (from tensorflow>=2.0->nfp) (1.1.2)\n",
            "Requirement already satisfied: astunparse~=1.6.3 in /usr/local/lib/python3.7/dist-packages (from tensorflow>=2.0->nfp) (1.6.3)\n",
            "Requirement already satisfied: six~=1.15.0 in /usr/local/lib/python3.7/dist-packages (from tensorflow>=2.0->nfp) (1.15.0)\n",
            "Requirement already satisfied: wheel~=0.35 in /usr/local/lib/python3.7/dist-packages (from tensorflow>=2.0->nfp) (0.36.2)\n",
            "Requirement already satisfied: h5py~=3.1.0 in /usr/local/lib/python3.7/dist-packages (from tensorflow>=2.0->nfp) (3.1.0)\n",
            "Requirement already satisfied: termcolor~=1.1.0 in /usr/local/lib/python3.7/dist-packages (from tensorflow>=2.0->nfp) (1.1.0)\n",
            "Requirement already satisfied: keras-nightly~=2.5.0.dev in /usr/local/lib/python3.7/dist-packages (from tensorflow>=2.0->nfp) (2.5.0.dev2021032900)\n",
            "Requirement already satisfied: grpcio~=1.34.0 in /usr/local/lib/python3.7/dist-packages (from tensorflow>=2.0->nfp) (1.34.1)\n",
            "Requirement already satisfied: tensorboard~=2.5 in /usr/local/lib/python3.7/dist-packages (from tensorflow>=2.0->nfp) (2.5.0)\n",
            "Requirement already satisfied: wrapt~=1.12.1 in /usr/local/lib/python3.7/dist-packages (from tensorflow>=2.0->nfp) (1.12.1)\n",
            "Requirement already satisfied: protobuf>=3.9.2 in /usr/local/lib/python3.7/dist-packages (from tensorflow>=2.0->nfp) (3.17.3)\n",
            "Requirement already satisfied: typing-extensions~=3.7.4 in /usr/local/lib/python3.7/dist-packages (from tensorflow>=2.0->nfp) (3.7.4.3)\n",
            "Requirement already satisfied: tensorflow-estimator<2.6.0,>=2.5.0rc0 in /usr/local/lib/python3.7/dist-packages (from tensorflow>=2.0->nfp) (2.5.0)\n",
            "Requirement already satisfied: gast==0.4.0 in /usr/local/lib/python3.7/dist-packages (from tensorflow>=2.0->nfp) (0.4.0)\n",
            "Requirement already satisfied: cached-property in /usr/local/lib/python3.7/dist-packages (from h5py~=3.1.0->tensorflow>=2.0->nfp) (1.5.2)\n",
            "Requirement already satisfied: google-auth-oauthlib<0.5,>=0.4.1 in /usr/local/lib/python3.7/dist-packages (from tensorboard~=2.5->tensorflow>=2.0->nfp) (0.4.4)\n",
            "Requirement already satisfied: requests<3,>=2.21.0 in /usr/local/lib/python3.7/dist-packages (from tensorboard~=2.5->tensorflow>=2.0->nfp) (2.23.0)\n",
            "Requirement already satisfied: setuptools>=41.0.0 in /usr/local/lib/python3.7/dist-packages (from tensorboard~=2.5->tensorflow>=2.0->nfp) (57.2.0)\n",
            "Requirement already satisfied: werkzeug>=0.11.15 in /usr/local/lib/python3.7/dist-packages (from tensorboard~=2.5->tensorflow>=2.0->nfp) (1.0.1)\n",
            "Requirement already satisfied: tensorboard-plugin-wit>=1.6.0 in /usr/local/lib/python3.7/dist-packages (from tensorboard~=2.5->tensorflow>=2.0->nfp) (1.8.0)\n",
            "Requirement already satisfied: markdown>=2.6.8 in /usr/local/lib/python3.7/dist-packages (from tensorboard~=2.5->tensorflow>=2.0->nfp) (3.3.4)\n",
            "Requirement already satisfied: google-auth<2,>=1.6.3 in /usr/local/lib/python3.7/dist-packages (from tensorboard~=2.5->tensorflow>=2.0->nfp) (1.32.1)\n",
            "Requirement already satisfied: tensorboard-data-server<0.7.0,>=0.6.0 in /usr/local/lib/python3.7/dist-packages (from tensorboard~=2.5->tensorflow>=2.0->nfp) (0.6.1)\n",
            "Requirement already satisfied: rsa<5,>=3.1.4 in /usr/local/lib/python3.7/dist-packages (from google-auth<2,>=1.6.3->tensorboard~=2.5->tensorflow>=2.0->nfp) (4.7.2)\n",
            "Requirement already satisfied: cachetools<5.0,>=2.0.0 in /usr/local/lib/python3.7/dist-packages (from google-auth<2,>=1.6.3->tensorboard~=2.5->tensorflow>=2.0->nfp) (4.2.2)\n",
            "Requirement already satisfied: pyasn1-modules>=0.2.1 in /usr/local/lib/python3.7/dist-packages (from google-auth<2,>=1.6.3->tensorboard~=2.5->tensorflow>=2.0->nfp) (0.2.8)\n",
            "Requirement already satisfied: requests-oauthlib>=0.7.0 in /usr/local/lib/python3.7/dist-packages (from google-auth-oauthlib<0.5,>=0.4.1->tensorboard~=2.5->tensorflow>=2.0->nfp) (1.3.0)\n",
            "Requirement already satisfied: importlib-metadata in /usr/local/lib/python3.7/dist-packages (from markdown>=2.6.8->tensorboard~=2.5->tensorflow>=2.0->nfp) (4.6.1)\n",
            "Requirement already satisfied: pyasn1<0.5.0,>=0.4.6 in /usr/local/lib/python3.7/dist-packages (from pyasn1-modules>=0.2.1->google-auth<2,>=1.6.3->tensorboard~=2.5->tensorflow>=2.0->nfp) (0.4.8)\n",
            "Requirement already satisfied: idna<3,>=2.5 in /usr/local/lib/python3.7/dist-packages (from requests<3,>=2.21.0->tensorboard~=2.5->tensorflow>=2.0->nfp) (2.10)\n",
            "Requirement already satisfied: urllib3!=1.25.0,!=1.25.1,<1.26,>=1.21.1 in /usr/local/lib/python3.7/dist-packages (from requests<3,>=2.21.0->tensorboard~=2.5->tensorflow>=2.0->nfp) (1.24.3)\n",
            "Requirement already satisfied: chardet<4,>=3.0.2 in /usr/local/lib/python3.7/dist-packages (from requests<3,>=2.21.0->tensorboard~=2.5->tensorflow>=2.0->nfp) (3.0.4)\n",
            "Requirement already satisfied: certifi>=2017.4.17 in /usr/local/lib/python3.7/dist-packages (from requests<3,>=2.21.0->tensorboard~=2.5->tensorflow>=2.0->nfp) (2021.5.30)\n",
            "Requirement already satisfied: oauthlib>=3.0.0 in /usr/local/lib/python3.7/dist-packages (from requests-oauthlib>=0.7.0->google-auth-oauthlib<0.5,>=0.4.1->tensorboard~=2.5->tensorflow>=2.0->nfp) (3.1.1)\n",
            "Requirement already satisfied: zipp>=0.5 in /usr/local/lib/python3.7/dist-packages (from importlib-metadata->markdown>=2.6.8->tensorboard~=2.5->tensorflow>=2.0->nfp) (3.5.0)\n"
          ],
          "name": "stdout"
        }
      ]
    },
    {
      "cell_type": "code",
      "metadata": {
        "id": "1EPh8lO5srOX"
      },
      "source": [
        "import nfp\n",
        "from collections import namedtuple\n",
        "\n",
        "atom_type = namedtuple('Atom', ['symbol', 'aromatic', 'ring_size', 'degree', 'totalHs'])\n",
        "bond_type = namedtuple('Bond', ['bond_type', 'degree', 'ring_size'])\n",
        "\n",
        "def atom_featurizer(atom):\n",
        "    \"\"\" Return an string representing the atom type\n",
        "    \"\"\"\n",
        "\n",
        "    return atom_type(\n",
        "        atom.GetSymbol(),\n",
        "        atom.GetIsAromatic(),\n",
        "        nfp.get_ring_size(atom, max_size=6),\n",
        "        atom.GetDegree(),\n",
        "        atom.GetTotalNumHs(includeNeighbors=True)\n",
        "    )\n",
        "\n",
        "def bond_featurizer(bond, flipped=False):\n",
        "    \"\"\" Get a similar classification of the bond type.\n",
        "    Flipped indicates which 'direction' the bond edge is pointing. \"\"\"\n",
        "    \n",
        "    if not flipped:\n",
        "        atoms = \"{}-{}\".format(\n",
        "            *tuple((bond.GetBeginAtom().GetSymbol(),\n",
        "                    bond.GetEndAtom().GetSymbol())))\n",
        "    else:\n",
        "        atoms = \"{}-{}\".format(\n",
        "            *tuple((bond.GetEndAtom().GetSymbol(),\n",
        "                    bond.GetBeginAtom().GetSymbol())))\n",
        "    \n",
        "    btype = str(bond.GetBondType())\n",
        "    ring = nfp.get_ring_size(bond, max_size=6) if bond.IsInRing() else None\n",
        "    \n",
        "    return bond_type(atoms, btype, ring)"
      ],
      "execution_count": 17,
      "outputs": []
    },
    {
      "cell_type": "code",
      "metadata": {
        "id": "IWyw8dW7_9x5"
      },
      "source": [
        "mol = rdkit.Chem.MolFromSmiles('CC(C)COCC(C)C')"
      ],
      "execution_count": 18,
      "outputs": []
    },
    {
      "cell_type": "code",
      "metadata": {
        "colab": {
          "base_uri": "https://localhost:8080/"
        },
        "id": "JdDczHMiC7dH",
        "outputId": "8303f0b8-7391-4cda-9ab1-2886ea70235e"
      },
      "source": [
        "atom_featurizer(mol.GetAtoms()[0])"
      ],
      "execution_count": 19,
      "outputs": [
        {
          "output_type": "execute_result",
          "data": {
            "text/plain": [
              "Atom(symbol='C', aromatic=False, ring_size=0, degree=1, totalHs=3)"
            ]
          },
          "metadata": {
            "tags": []
          },
          "execution_count": 19
        }
      ]
    },
    {
      "cell_type": "code",
      "metadata": {
        "colab": {
          "base_uri": "https://localhost:8080/"
        },
        "id": "KOAAuLobEv7w",
        "outputId": "135f0bc9-5b04-48e1-ba01-6b791d613c02"
      },
      "source": [
        "bond_featurizer(mol.GetBonds()[0])"
      ],
      "execution_count": 20,
      "outputs": [
        {
          "output_type": "execute_result",
          "data": {
            "text/plain": [
              "Bond(bond_type='C-C', degree='SINGLE', ring_size=None)"
            ]
          },
          "metadata": {
            "tags": []
          },
          "execution_count": 20
        }
      ]
    },
    {
      "cell_type": "code",
      "metadata": {
        "id": "SBHgNxlpC9OX"
      },
      "source": [
        "preprocessor = nfp.SmilesPreprocessor(atom_features=atom_featurizer,\n",
        "                                      bond_features=bond_featurizer,\n",
        "                                      explicit_hs=False)"
      ],
      "execution_count": 21,
      "outputs": []
    },
    {
      "cell_type": "code",
      "metadata": {
        "colab": {
          "base_uri": "https://localhost:8080/"
        },
        "id": "qbhMir76E0Nf",
        "outputId": "4b1b0f2d-f839-42f7-fce4-767e4e68c839"
      },
      "source": [
        "pd.Series(preprocessor.atom_tokenizer._data)"
      ],
      "execution_count": 22,
      "outputs": [
        {
          "output_type": "execute_result",
          "data": {
            "text/plain": [
              "unk    1\n",
              "dtype: int64"
            ]
          },
          "metadata": {
            "tags": []
          },
          "execution_count": 22
        }
      ]
    },
    {
      "cell_type": "code",
      "metadata": {
        "id": "vLfHxfFPE1_W"
      },
      "source": [
        "for smiles in cn_train.SMILES: \n",
        "  preprocessor.construct_feature_matrices(smiles, train=True)"
      ],
      "execution_count": 23,
      "outputs": []
    },
    {
      "cell_type": "code",
      "metadata": {
        "colab": {
          "base_uri": "https://localhost:8080/"
        },
        "id": "mX-yiScNFFrK",
        "outputId": "f556e6f9-cd41-41e7-8c8d-c702cd5be477"
      },
      "source": [
        "pd.Series(preprocessor.atom_tokenizer._data)"
      ],
      "execution_count": 24,
      "outputs": [
        {
          "output_type": "execute_result",
          "data": {
            "text/plain": [
              "unk                       1\n",
              "(C, False, 0, 1, 3)       2\n",
              "(C, False, 0, 2, 2)       3\n",
              "(O, False, 0, 1, 1)       4\n",
              "(C, False, 0, 2, 1)       5\n",
              "(O, False, 0, 1, 0)       6\n",
              "(C, False, max, 3, 1)     7\n",
              "(C, False, max, 2, 2)     8\n",
              "(C, False, 0, 3, 1)       9\n",
              "(C, False, 0, 4, 0)      10\n",
              "(O, False, 0, 2, 0)      11\n",
              "(C, False, 0, 3, 0)      12\n",
              "(C, False, 4, 4, 0)      13\n",
              "(C, False, 4, 2, 2)      14\n",
              "(O, False, 4, 2, 0)      15\n",
              "(C, False, 0, 1, 2)      16\n",
              "(C, False, 5, 2, 2)      17\n",
              "(C, False, max, 2, 1)    18\n",
              "(C, True, max, 3, 0)     19\n",
              "(C, True, max, 2, 1)     20\n",
              "(C, True, 5, 3, 0)       21\n",
              "(C, False, 5, 3, 1)      22\n",
              "(O, False, 5, 2, 0)      23\n",
              "(C, True, 5, 2, 1)       24\n",
              "(O, True, 5, 2, 0)       25\n",
              "(C, False, max, 3, 0)    26\n",
              "(C, False, 4, 3, 1)      27\n",
              "(O, False, max, 2, 0)    28\n",
              "(C, False, max, 4, 0)    29\n",
              "(C, False, 0, 1, 1)      30\n",
              "(C, False, 0, 2, 0)      31\n",
              "(C, False, 3, 3, 1)      32\n",
              "(C, False, 3, 4, 0)      33\n",
              "(C, False, 5, 3, 0)      34\n",
              "(C, False, 5, 2, 1)      35\n",
              "(C, False, 5, 4, 0)      36\n",
              "dtype: int64"
            ]
          },
          "metadata": {
            "tags": []
          },
          "execution_count": 24
        }
      ]
    },
    {
      "cell_type": "code",
      "metadata": {
        "colab": {
          "base_uri": "https://localhost:8080/"
        },
        "id": "wtwZKZgaFG73",
        "outputId": "c3e2b084-1c86-4598-86fd-a8dcf25e3a01"
      },
      "source": [
        "preprocessor.construct_feature_matrices('CCO', train=False)['atom']"
      ],
      "execution_count": 25,
      "outputs": [
        {
          "output_type": "execute_result",
          "data": {
            "text/plain": [
              "array([2, 3, 4], dtype=int32)"
            ]
          },
          "metadata": {
            "tags": []
          },
          "execution_count": 25
        }
      ]
    },
    {
      "cell_type": "code",
      "metadata": {
        "colab": {
          "base_uri": "https://localhost:8080/"
        },
        "id": "2ZUP8sY0IjCI",
        "outputId": "7845cbf8-4f52-4cdc-9ea5-ec7a928b69fb"
      },
      "source": [
        "preprocessor.construct_feature_matrices('CCO', train=False)['bond']"
      ],
      "execution_count": 26,
      "outputs": [
        {
          "output_type": "execute_result",
          "data": {
            "text/plain": [
              "array([2, 2, 3, 4], dtype=int32)"
            ]
          },
          "metadata": {
            "tags": []
          },
          "execution_count": 26
        }
      ]
    },
    {
      "cell_type": "code",
      "metadata": {
        "colab": {
          "base_uri": "https://localhost:8080/"
        },
        "id": "AVj7kTfSI0NN",
        "outputId": "1f67b7fa-2be1-4cc7-e1c6-210c6dc89e4e"
      },
      "source": [
        "preprocessor.construct_feature_matrices('CCO', train=False)['connectivity']"
      ],
      "execution_count": 27,
      "outputs": [
        {
          "output_type": "execute_result",
          "data": {
            "text/plain": [
              "array([[0, 1],\n",
              "       [1, 0],\n",
              "       [1, 2],\n",
              "       [2, 1]], dtype=int32)"
            ]
          },
          "metadata": {
            "tags": []
          },
          "execution_count": 27
        }
      ]
    },
    {
      "cell_type": "code",
      "metadata": {
        "id": "zYWAXyaOJIXO"
      },
      "source": [
        "def data_generator(cn_split):\n",
        "  for _, row in cn_split.iterrows():\n",
        "    inputs = preprocessor.construct_feature_matrices(row.SMILES, train=False)\n",
        "    yield ({'atom': inputs['atom'],\n",
        "            'bond': inputs['bond'],\n",
        "            'connectivity': inputs['connectivity']},\n",
        "           row.CN)\n",
        "\n",
        "output_signature = (preprocessor.output_signature,\n",
        "                    tf.TensorSpec(shape=(), dtype=tf.float32))"
      ],
      "execution_count": 28,
      "outputs": []
    },
    {
      "cell_type": "code",
      "metadata": {
        "id": "kv6euAcNI5Rb"
      },
      "source": [
        "train_dataset = tf.data.Dataset.from_generator(\n",
        "    lambda: data_generator(cn_train),\n",
        "    output_signature=output_signature)\\\n",
        "    .cache().shuffle(buffer_size=200)\\\n",
        "    .padded_batch(batch_size=32)\\\n",
        "    .prefetch(tf.data.experimental.AUTOTUNE)\n",
        "\n",
        "valid_dataset = tf.data.Dataset.from_generator(\n",
        "    lambda: data_generator(cn_test),\n",
        "    output_signature=output_signature)\\\n",
        "    .cache().shuffle(buffer_size=200)\\\n",
        "    .padded_batch(batch_size=32)\\\n",
        "    .prefetch(tf.data.experimental.AUTOTUNE)"
      ],
      "execution_count": 29,
      "outputs": []
    },
    {
      "cell_type": "markdown",
      "metadata": {
        "id": "bjxW-UN1Ns0H"
      },
      "source": [
        ""
      ]
    },
    {
      "cell_type": "code",
      "metadata": {
        "colab": {
          "base_uri": "https://localhost:8080/"
        },
        "id": "uSizqVzyL-pT",
        "outputId": "77f37608-ec2d-4524-8e5d-6a32d036bf77"
      },
      "source": [
        "for inputs, outputs in train_dataset.as_numpy_iterator():\n",
        "  break\n",
        "\n",
        "inputs['atom']"
      ],
      "execution_count": 30,
      "outputs": [
        {
          "output_type": "execute_result",
          "data": {
            "text/plain": [
              "array([[ 2,  3,  3,  3,  3,  5,  6,  0,  0,  0,  0,  0,  0,  0,  0,  0,\n",
              "         0,  0],\n",
              "       [ 2,  3,  9,  2,  4,  0,  0,  0,  0,  0,  0,  0,  0,  0,  0,  0,\n",
              "         0,  0],\n",
              "       [ 2,  3,  3,  3,  3,  3,  3,  3, 11, 12,  2,  6,  0,  0,  0,  0,\n",
              "         0,  0],\n",
              "       [ 2,  3,  3,  9,  2,  3,  3,  3,  9,  2,  3,  3,  3,  9,  2,  2,\n",
              "         0,  0],\n",
              "       [ 2,  3,  3,  3,  3,  9,  2,  4,  0,  0,  0,  0,  0,  0,  0,  0,\n",
              "         0,  0],\n",
              "       [ 2,  3,  3,  3,  3, 11,  3,  3,  3,  3,  2,  0,  0,  0,  0,  0,\n",
              "         0,  0],\n",
              "       [35, 35, 23, 17, 17,  0,  0,  0,  0,  0,  0,  0,  0,  0,  0,  0,\n",
              "         0,  0],\n",
              "       [ 2,  3,  3,  3,  3, 29,  8,  7,  8,  7,  8,  7,  8,  8,  8,  0,\n",
              "         0,  0],\n",
              "       [24, 24, 24, 25, 24,  0,  0,  0,  0,  0,  0,  0,  0,  0,  0,  0,\n",
              "         0,  0],\n",
              "       [ 2,  3,  3,  3,  3,  3, 11,  2,  0,  0,  0,  0,  0,  0,  0,  0,\n",
              "         0,  0],\n",
              "       [ 2, 10,  2,  2,  4,  0,  0,  0,  0,  0,  0,  0,  0,  0,  0,  0,\n",
              "         0,  0],\n",
              "       [ 2,  3,  3,  3,  3,  3, 12,  2,  6,  0,  0,  0,  0,  0,  0,  0,\n",
              "         0,  0],\n",
              "       [ 2,  3, 11, 12,  6,  3, 12,  2,  6,  0,  0,  0,  0,  0,  0,  0,\n",
              "         0,  0],\n",
              "       [17, 17, 22, 22, 17, 17, 22, 17, 22, 17,  0,  0,  0,  0,  0,  0,\n",
              "         0,  0],\n",
              "       [16,  5,  3,  3,  3,  3,  3,  3,  3,  3,  3,  3,  3,  3,  3,  2,\n",
              "         0,  0],\n",
              "       [ 2,  3,  3,  3,  3, 12,  6,  3,  3,  3,  3,  2,  0,  0,  0,  0,\n",
              "         0,  0],\n",
              "       [ 2,  9,  2, 11,  9,  2,  2,  0,  0,  0,  0,  0,  0,  0,  0,  0,\n",
              "         0,  0],\n",
              "       [ 2,  3,  3,  3,  3,  3,  3,  3,  3,  3,  3,  3,  3,  3,  3,  3,\n",
              "         3,  2],\n",
              "       [ 2, 12,  2,  5,  3,  3, 12,  2, 26,  8, 18, 26,  2,  8,  8,  0,\n",
              "         0,  0],\n",
              "       [ 2,  9,  2, 10,  2,  2,  2,  0,  0,  0,  0,  0,  0,  0,  0,  0,\n",
              "         0,  0],\n",
              "       [ 2,  7,  8,  8,  7,  2,  7,  2,  8,  0,  0,  0,  0,  0,  0,  0,\n",
              "         0,  0],\n",
              "       [ 2, 19, 20, 20, 19,  2, 20, 20,  0,  0,  0,  0,  0,  0,  0,  0,\n",
              "         0,  0],\n",
              "       [ 2,  3, 21, 24, 24, 24, 25,  0,  0,  0,  0,  0,  0,  0,  0,  0,\n",
              "         0,  0],\n",
              "       [ 2,  3,  3,  3,  3,  3,  3,  3,  3,  3,  3,  3,  3,  3,  3,  3,\n",
              "         2,  0],\n",
              "       [ 4, 22, 17, 17, 17, 17,  0,  0,  0,  0,  0,  0,  0,  0,  0,  0,\n",
              "         0,  0],\n",
              "       [ 2,  3,  3,  3,  3,  9,  2,  2,  0,  0,  0,  0,  0,  0,  0,  0,\n",
              "         0,  0],\n",
              "       [ 2, 11,  3,  9,  2,  4,  0,  0,  0,  0,  0,  0,  0,  0,  0,  0,\n",
              "         0,  0],\n",
              "       [ 2,  3, 19, 20, 19,  3,  2, 20, 19,  3,  2, 20,  0,  0,  0,  0,\n",
              "         0,  0],\n",
              "       [ 2,  3,  9,  2, 11,  9,  2,  3,  2,  0,  0,  0,  0,  0,  0,  0,\n",
              "         0,  0],\n",
              "       [ 2, 19, 20, 20, 20, 20, 20,  0,  0,  0,  0,  0,  0,  0,  0,  0,\n",
              "         0,  0],\n",
              "       [ 8,  8,  8, 28,  8,  8,  0,  0,  0,  0,  0,  0,  0,  0,  0,  0,\n",
              "         0,  0],\n",
              "       [ 2,  3,  7,  8,  8,  8,  8,  8,  0,  0,  0,  0,  0,  0,  0,  0,\n",
              "         0,  0]], dtype=int32)"
            ]
          },
          "metadata": {
            "tags": []
          },
          "execution_count": 30
        }
      ]
    },
    {
      "cell_type": "code",
      "metadata": {
        "colab": {
          "base_uri": "https://localhost:8080/"
        },
        "id": "DgOOVejWNoJL",
        "outputId": "4b45ffdf-30d5-446b-e3ac-351974491655"
      },
      "source": [
        "outputs"
      ],
      "execution_count": 31,
      "outputs": [
        {
          "output_type": "execute_result",
          "data": {
            "text/plain": [
              "array([ 75.2      ,   8.14     ,  44.405    ,  60.85     ,  24.65     ,\n",
              "       100.       ,  20.       ,  48.5      ,   7.       ,  99.8      ,\n",
              "         8.11     ,  36.6      ,  13.7      ,  20.4      ,  75.9      ,\n",
              "        49.36     ,   2.128    , 100.       ,  32.2      ,   3.8668349,\n",
              "        24.4      ,   6.19     ,  10.2      , 100.       ,   9.8      ,\n",
              "        52.6      ,  16.3      ,   7.6      ,  12.92     ,   6.       ,\n",
              "        38.2      ,  35.8      ], dtype=float32)"
            ]
          },
          "metadata": {
            "tags": []
          },
          "execution_count": 31
        }
      ]
    },
    {
      "cell_type": "code",
      "metadata": {
        "colab": {
          "base_uri": "https://localhost:8080/"
        },
        "id": "upjaOJDWOhmP",
        "outputId": "4dccba0c-22f7-440f-c29e-11afc224f553"
      },
      "source": [
        "atom = layers.Input(shape=[None], dtype=tf.int32, name='atom')\n",
        "bond = layers.Input(shape=[None], dtype=tf.int32, name='bond')\n",
        "connectivity = layers.Input(shape=[None, 2], dtype=tf.int32, name='connectivity')\n",
        "\n",
        "\n",
        "num_features = 128\n",
        "\n",
        "atom_state = layers.Embedding(preprocessor.atom_classes, num_features,\n",
        "                              name='atom_embedding', mask_zero=True)(atom)\n",
        "\n",
        "bond_state = layers.Embedding(preprocessor.bond_classes, num_features,\n",
        "                              name='bond_embedding', mask_zero=True)(bond)\n",
        "\n",
        "atom_mean = layers.Embedding(preprocessor.atom_classes, 1,\n",
        "                             name='atom_mean', mask_zero=True)(atom)\n",
        "\n",
        "for _ in range(6):\n",
        "  new_bond_state = nfp.EdgeUpdate()([atom_state, bond_state, connectivity])\n",
        "  bond_state = layers.Add()([bond_state, new_bond_state])\n",
        "\n",
        "  new_atom_state = nfp.NodeUpdate()([atom_state, bond_state, connectivity])\n",
        "  atom_state = layers.Add()([atom_state, new_atom_state])\n",
        "\n",
        "atomwise_prediction = layers.Dense(1)(atom_state)\n",
        "atomwise_prediction = layers.Add()([atomwise_prediction, atom_mean])\n",
        "mol_prediction = layers.GlobalAveragePooling1D()(atomwise_prediction)\n",
        "\n",
        "gnn_model = tf.keras.Model([atom, bond, connectivity], [mol_prediction])"
      ],
      "execution_count": 32,
      "outputs": [
        {
          "output_type": "stream",
          "text": [
            "WARNING:tensorflow:From /usr/local/lib/python3.7/dist-packages/tensorflow/python/ops/array_ops.py:5049: calling gather (from tensorflow.python.ops.array_ops) with validate_indices is deprecated and will be removed in a future version.\n",
            "Instructions for updating:\n",
            "The `validate_indices` argument has no effect. Indices are always validated on CPU and never validated on GPU.\n"
          ],
          "name": "stdout"
        }
      ]
    },
    {
      "cell_type": "code",
      "metadata": {
        "colab": {
          "base_uri": "https://localhost:8080/"
        },
        "id": "NZSo6K9qTNQo",
        "outputId": "795846dd-e0ea-49e7-8ed3-3af4f4aabc6b"
      },
      "source": [
        "!pip install -U tensorflow-addons\n",
        "import tensorflow_addons as tfa"
      ],
      "execution_count": 33,
      "outputs": [
        {
          "output_type": "stream",
          "text": [
            "Requirement already satisfied: tensorflow-addons in /usr/local/lib/python3.7/dist-packages (0.13.0)\n",
            "Requirement already satisfied: typeguard>=2.7 in /usr/local/lib/python3.7/dist-packages (from tensorflow-addons) (2.7.1)\n"
          ],
          "name": "stdout"
        }
      ]
    },
    {
      "cell_type": "code",
      "metadata": {
        "id": "0k3Z5vAkRhS3"
      },
      "source": [
        "optimizer = tfa.optimizers.AdamW(learning_rate=1E-4, weight_decay=1E-5)\n",
        "gnn_model.compile(optimizer, loss='mae')"
      ],
      "execution_count": 34,
      "outputs": []
    },
    {
      "cell_type": "code",
      "metadata": {
        "colab": {
          "base_uri": "https://localhost:8080/"
        },
        "id": "egFfMnLqTrNu",
        "outputId": "a02e74e7-b45a-444d-85be-9e5b4df706c4"
      },
      "source": [
        "hist = gnn_model.fit(train_dataset, validation_data=valid_dataset, epochs=50, verbose=2)"
      ],
      "execution_count": 35,
      "outputs": [
        {
          "output_type": "stream",
          "text": [
            "Epoch 1/50\n",
            "12/12 - 11s - loss: 28.4258 - val_loss: 24.2220\n",
            "Epoch 2/50\n",
            "12/12 - 1s - loss: 17.4953 - val_loss: 15.5390\n",
            "Epoch 3/50\n",
            "12/12 - 1s - loss: 13.6884 - val_loss: 13.3456\n",
            "Epoch 4/50\n",
            "12/12 - 1s - loss: 12.3723 - val_loss: 12.0335\n",
            "Epoch 5/50\n",
            "12/12 - 1s - loss: 11.7753 - val_loss: 11.6641\n",
            "Epoch 6/50\n",
            "12/12 - 1s - loss: 10.8923 - val_loss: 10.2497\n",
            "Epoch 7/50\n",
            "12/12 - 1s - loss: 10.1548 - val_loss: 10.2058\n",
            "Epoch 8/50\n",
            "12/12 - 1s - loss: 10.3766 - val_loss: 10.7894\n",
            "Epoch 9/50\n",
            "12/12 - 1s - loss: 9.8212 - val_loss: 9.3480\n",
            "Epoch 10/50\n",
            "12/12 - 1s - loss: 9.1468 - val_loss: 9.4970\n",
            "Epoch 11/50\n",
            "12/12 - 1s - loss: 8.4980 - val_loss: 8.4363\n",
            "Epoch 12/50\n",
            "12/12 - 1s - loss: 8.4198 - val_loss: 9.1814\n",
            "Epoch 13/50\n",
            "12/12 - 1s - loss: 8.3321 - val_loss: 8.8189\n",
            "Epoch 14/50\n",
            "12/12 - 1s - loss: 8.6451 - val_loss: 9.5683\n",
            "Epoch 15/50\n",
            "12/12 - 1s - loss: 7.8693 - val_loss: 9.0818\n",
            "Epoch 16/50\n",
            "12/12 - 1s - loss: 8.0211 - val_loss: 8.7345\n",
            "Epoch 17/50\n",
            "12/12 - 1s - loss: 7.4076 - val_loss: 8.4737\n",
            "Epoch 18/50\n",
            "12/12 - 1s - loss: 7.2034 - val_loss: 12.4834\n",
            "Epoch 19/50\n",
            "12/12 - 1s - loss: 9.0323 - val_loss: 7.6796\n",
            "Epoch 20/50\n",
            "12/12 - 1s - loss: 8.0808 - val_loss: 9.2573\n",
            "Epoch 21/50\n",
            "12/12 - 1s - loss: 8.3906 - val_loss: 8.5614\n",
            "Epoch 22/50\n",
            "12/12 - 1s - loss: 7.2180 - val_loss: 7.8354\n",
            "Epoch 23/50\n",
            "12/12 - 1s - loss: 7.1188 - val_loss: 7.8512\n",
            "Epoch 24/50\n",
            "12/12 - 1s - loss: 7.0197 - val_loss: 7.5300\n",
            "Epoch 25/50\n",
            "12/12 - 1s - loss: 6.6462 - val_loss: 7.3631\n",
            "Epoch 26/50\n",
            "12/12 - 1s - loss: 6.6573 - val_loss: 8.7977\n",
            "Epoch 27/50\n",
            "12/12 - 1s - loss: 6.3947 - val_loss: 7.4024\n",
            "Epoch 28/50\n",
            "12/12 - 1s - loss: 6.2551 - val_loss: 7.5054\n",
            "Epoch 29/50\n",
            "12/12 - 1s - loss: 6.3178 - val_loss: 8.1190\n",
            "Epoch 30/50\n",
            "12/12 - 1s - loss: 5.9606 - val_loss: 7.6335\n",
            "Epoch 31/50\n",
            "12/12 - 1s - loss: 6.5799 - val_loss: 7.0335\n",
            "Epoch 32/50\n",
            "12/12 - 1s - loss: 6.2717 - val_loss: 8.4309\n",
            "Epoch 33/50\n",
            "12/12 - 1s - loss: 6.1124 - val_loss: 8.5847\n",
            "Epoch 34/50\n",
            "12/12 - 1s - loss: 5.7843 - val_loss: 7.0724\n",
            "Epoch 35/50\n",
            "12/12 - 1s - loss: 6.0812 - val_loss: 6.7631\n",
            "Epoch 36/50\n",
            "12/12 - 1s - loss: 6.6590 - val_loss: 10.3701\n",
            "Epoch 37/50\n",
            "12/12 - 1s - loss: 7.7081 - val_loss: 8.2418\n",
            "Epoch 38/50\n",
            "12/12 - 1s - loss: 5.8151 - val_loss: 7.3834\n",
            "Epoch 39/50\n",
            "12/12 - 1s - loss: 5.6716 - val_loss: 6.7808\n",
            "Epoch 40/50\n",
            "12/12 - 1s - loss: 5.3476 - val_loss: 7.5680\n",
            "Epoch 41/50\n",
            "12/12 - 1s - loss: 5.3630 - val_loss: 7.2880\n",
            "Epoch 42/50\n",
            "12/12 - 1s - loss: 5.4099 - val_loss: 7.0282\n",
            "Epoch 43/50\n",
            "12/12 - 1s - loss: 5.7091 - val_loss: 8.4705\n",
            "Epoch 44/50\n",
            "12/12 - 1s - loss: 5.6805 - val_loss: 6.7883\n",
            "Epoch 45/50\n",
            "12/12 - 1s - loss: 5.7593 - val_loss: 7.4783\n",
            "Epoch 46/50\n",
            "12/12 - 1s - loss: 5.6304 - val_loss: 7.7001\n",
            "Epoch 47/50\n",
            "12/12 - 1s - loss: 5.5592 - val_loss: 7.2817\n",
            "Epoch 48/50\n",
            "12/12 - 0s - loss: 6.2648 - val_loss: 8.3178\n",
            "Epoch 49/50\n",
            "12/12 - 1s - loss: 6.4249 - val_loss: 6.8946\n",
            "Epoch 50/50\n",
            "12/12 - 0s - loss: 5.6820 - val_loss: 6.7169\n"
          ],
          "name": "stdout"
        }
      ]
    },
    {
      "cell_type": "code",
      "metadata": {
        "colab": {
          "base_uri": "https://localhost:8080/",
          "height": 282
        },
        "id": "akDYtQ_7T4kU",
        "outputId": "ad5be439-cf90-46cb-85b3-73bba5f73a2d"
      },
      "source": [
        "pd.DataFrame(hist.history).plot.line()"
      ],
      "execution_count": 36,
      "outputs": [
        {
          "output_type": "execute_result",
          "data": {
            "text/plain": [
              "<matplotlib.axes._subplots.AxesSubplot at 0x7f53747f8310>"
            ]
          },
          "metadata": {
            "tags": []
          },
          "execution_count": 36
        },
        {
          "output_type": "display_data",
          "data": {
            "image/png": "[encoded data removed]",
            "text/plain": [
              "<Figure size 432x288 with 1 Axes>"
            ]
          },
          "metadata": {
            "tags": [],
            "needs_background": "light"
          }
        }
      ]
    },
    {
      "cell_type": "code",
      "metadata": {
        "colab": {
          "base_uri": "https://localhost:8080/"
        },
        "id": "7ot82oIrWitB",
        "outputId": "e4570538-aa5d-42bf-b1a6-026f97222188"
      },
      "source": [
        "np.expand_dims(inputs['connectivity'], axis=0).shape"
      ],
      "execution_count": 37,
      "outputs": [
        {
          "output_type": "execute_result",
          "data": {
            "text/plain": [
              "(1, 32, 34, 2)"
            ]
          },
          "metadata": {
            "tags": []
          },
          "execution_count": 37
        }
      ]
    },
    {
      "cell_type": "code",
      "metadata": {
        "colab": {
          "base_uri": "https://localhost:8080/"
        },
        "id": "WcKfEDLZVsK6",
        "outputId": "76a1d2fb-731e-4e38-dba2-fd7aa56eb183"
      },
      "source": [
        "inputs = preprocessor.construct_feature_matrices('CC(C)COCC(C)C')\n",
        "gnn_model.predict({key: np.expand_dims(inputs[key], axis=0) for key in ['atom', 'bond', 'connectivity']})"
      ],
      "execution_count": 38,
      "outputs": [
        {
          "output_type": "execute_result",
          "data": {
            "text/plain": [
              "array([[65.959076]], dtype=float32)"
            ]
          },
          "metadata": {
            "tags": []
          },
          "execution_count": 38
        }
      ]
    },
    {
      "cell_type": "code",
      "metadata": {
        "colab": {
          "base_uri": "https://localhost:8080/"
        },
        "id": "FrsdMXHLh95X",
        "outputId": "6d9b37bf-8550-45a4-d751-8bff6ad3284e"
      },
      "source": [
        "# https://doi.org/10.3929/ethz-b-000230799\n",
        "! wget https://www.research-collection.ethz.ch/bitstream/handle/20.500.11850/230799/ChEMBL_eps_78.tar.gz \n",
        "! tar -xzf *.tar.gz"
      ],
      "execution_count": 39,
      "outputs": [
        {
          "output_type": "stream",
          "text": [
            "--2021-08-04 20:58:35--  https://www.research-collection.ethz.ch/bitstream/handle/20.500.11850/230799/ChEMBL_eps_78.tar.gz\n",
            "Resolving www.research-collection.ethz.ch (www.research-collection.ethz.ch)... 129.132.8.151\n",
            "Connecting to www.research-collection.ethz.ch (www.research-collection.ethz.ch)|129.132.8.151|:443... connected.\n",
            "HTTP request sent, awaiting response... 200 OK\n",
            "Length: 32743757 (31M) [application/octet-stream]\n",
            "Saving to: ‘ChEMBL_eps_78.tar.gz.1’\n",
            "\n",
            "ChEMBL_eps_78.tar.g 100%[===================>]  31.23M  10.2MB/s    in 3.2s    \n",
            "\n",
            "2021-08-04 20:58:39 (9.71 MB/s) - ‘ChEMBL_eps_78.tar.gz.1’ saved [32743757/32743757]\n",
            "\n"
          ],
          "name": "stdout"
        }
      ]
    },
    {
      "cell_type": "code",
      "metadata": {
        "id": "JPF1_OVViZPM"
      },
      "source": [
        "import os"
      ],
      "execution_count": 40,
      "outputs": []
    },
    {
      "cell_type": "code",
      "metadata": {
        "id": "naXIythnk1UQ"
      },
      "source": [
        "to_read = os.listdir('ChEMBL_mols')\n",
        "from sklearn.model_selection import train_test_split"
      ],
      "execution_count": 41,
      "outputs": []
    },
    {
      "cell_type": "code",
      "metadata": {
        "colab": {
          "base_uri": "https://localhost:8080/"
        },
        "id": "P7KRY65tm3Is",
        "outputId": "ad9fc7bb-c16b-4396-edb5-6c5c58b0e66f"
      },
      "source": [
        "len(to_read)"
      ],
      "execution_count": 42,
      "outputs": [
        {
          "output_type": "execute_result",
          "data": {
            "text/plain": [
              "40019"
            ]
          },
          "metadata": {
            "tags": []
          },
          "execution_count": 42
        }
      ]
    },
    {
      "cell_type": "code",
      "metadata": {
        "id": "U6ATx-Abmvw_"
      },
      "source": [
        "train_files, test_files = train_test_split(to_read, test_size=0.2)"
      ],
      "execution_count": 43,
      "outputs": []
    },
    {
      "cell_type": "markdown",
      "metadata": {
        "id": "2_kwtxtXm1id"
      },
      "source": [
        ""
      ]
    },
    {
      "cell_type": "code",
      "metadata": {
        "id": "YAD9KyTgk23S"
      },
      "source": [
        "def iter_mols(filenames):\n",
        "  for filename in filenames:\n",
        "    for mol in rdkit.Chem.SDMolSupplier(os.path.join('ChEMBL_mols', filename)):\n",
        "      yield mol"
      ],
      "execution_count": 44,
      "outputs": []
    },
    {
      "cell_type": "code",
      "metadata": {
        "id": "haDiPSfuoYNB"
      },
      "source": [
        "def get_charges(mol):\n",
        "  return np.array([float(a.GetProp('molFileAlias')) for a in mol.GetAtoms()])"
      ],
      "execution_count": 45,
      "outputs": []
    },
    {
      "cell_type": "code",
      "metadata": {
        "id": "t2eh6qVom6T4"
      },
      "source": [
        "mol = next(iter_mols(train_files))"
      ],
      "execution_count": 46,
      "outputs": []
    },
    {
      "cell_type": "code",
      "metadata": {
        "colab": {
          "base_uri": "https://localhost:8080/"
        },
        "id": "4GcVGS34ofTT",
        "outputId": "4f46c6e0-ee96-401b-be38-5fcfb54dc365"
      },
      "source": [
        "get_charges(mol)"
      ],
      "execution_count": 47,
      "outputs": [
        {
          "output_type": "execute_result",
          "data": {
            "text/plain": [
              "array([ 1.131587, -0.675413, -0.405496, -0.078475, -0.367145, -0.086738,\n",
              "       -0.088578, -0.405332, -0.174874, -0.060825, -0.045239,  0.17867 ,\n",
              "       -0.272097, -0.087974, -0.180094, -0.067529, -0.094017, -0.12947 ])"
            ]
          },
          "metadata": {
            "tags": []
          },
          "execution_count": 47
        }
      ]
    },
    {
      "cell_type": "code",
      "metadata": {
        "colab": {
          "base_uri": "https://localhost:8080/"
        },
        "id": "M5qewt6RpTJq",
        "outputId": "21314f67-b9a6-40b3-f6ca-077dd3a9c029"
      },
      "source": [
        "import random\n",
        "from tqdm import tqdm\n",
        "\n",
        "preprocessor = nfp.MolPreprocessor(atom_features=atom_featurizer,\n",
        "                                   bond_features=bond_featurizer)\n",
        "\n",
        "for mol in tqdm(iter_mols(random.sample(train_files, k=5000))):\n",
        "  preprocessor.construct_feature_matrices(mol, train=True)"
      ],
      "execution_count": 48,
      "outputs": [
        {
          "output_type": "stream",
          "text": [
            "5000it [00:09, 550.05it/s]\n"
          ],
          "name": "stderr"
        }
      ]
    },
    {
      "cell_type": "code",
      "metadata": {
        "id": "ivT5kEfcnNXH"
      },
      "source": [
        "def charges_data_generator(files):\n",
        "  for mol in iter_mols(files):\n",
        "    yield preprocessor.construct_feature_matrices(mol), get_charges(mol)\n",
        "\n",
        "output_signature = (preprocessor.output_signature,\n",
        "                    tf.TensorSpec(shape=(None,), dtype=tf.float32))"
      ],
      "execution_count": 49,
      "outputs": []
    },
    {
      "cell_type": "markdown",
      "metadata": {
        "id": "7EBsDrCX55Jp"
      },
      "source": [
        ""
      ]
    },
    {
      "cell_type": "code",
      "metadata": {
        "id": "UZW_oYU53iPR"
      },
      "source": [
        "train_dataset = tf.data.Dataset.from_generator(\n",
        "    lambda: charges_data_generator(train_files),\n",
        "    output_signature=output_signature)\\\n",
        "    .cache().repeat().shuffle(buffer_size=1000)\\\n",
        "    .padded_batch(batch_size=128, padding_values=({'atom': 0, 'bond': 0, 'connectivity': 0}, np.nan))\\\n",
        "    .prefetch(tf.data.experimental.AUTOTUNE)\n",
        "\n",
        "valid_dataset = tf.data.Dataset.from_generator(\n",
        "    lambda: charges_data_generator(test_files),\n",
        "    output_signature=output_signature)\\\n",
        "    .cache().repeat().shuffle(buffer_size=500)\\\n",
        "    .padded_batch(batch_size=32, padding_values=({'atom': 0, 'bond': 0, 'connectivity': 0}, np.nan))\\\n",
        "    .prefetch(tf.data.experimental.AUTOTUNE)"
      ],
      "execution_count": 50,
      "outputs": []
    },
    {
      "cell_type": "code",
      "metadata": {
        "id": "Q9cfKNXK5Bom"
      },
      "source": [
        "atom = layers.Input(shape=[None], dtype=tf.int32, name='atom')\n",
        "bond = layers.Input(shape=[None], dtype=tf.int32, name='bond')\n",
        "connectivity = layers.Input(shape=[None, 2], dtype=tf.int32, name='connectivity')\n",
        "\n",
        "\n",
        "num_features = 128\n",
        "\n",
        "atom_state = layers.Embedding(preprocessor.atom_classes, num_features,\n",
        "                              name='atom_embedding', mask_zero=True)(atom)\n",
        "\n",
        "bond_state = layers.Embedding(preprocessor.bond_classes, num_features,\n",
        "                              name='bond_embedding', mask_zero=True)(bond)\n",
        "\n",
        "atom_mean = layers.Embedding(preprocessor.atom_classes, 1,\n",
        "                             name='atom_mean', mask_zero=True)(atom)\n",
        "\n",
        "for _ in range(6):\n",
        "  new_bond_state = nfp.EdgeUpdate()([atom_state, bond_state, connectivity])\n",
        "  bond_state = layers.Add()([bond_state, new_bond_state])\n",
        "\n",
        "  new_atom_state = nfp.NodeUpdate()([atom_state, bond_state, connectivity])\n",
        "  atom_state = layers.Add()([atom_state, new_atom_state])\n",
        "\n",
        "atomwise_prediction = layers.Dense(1)(atom_state)\n",
        "atomwise_prediction = layers.Add()([atomwise_prediction, atom_mean])\n",
        "\n",
        "charge_model = tf.keras.Model([atom, bond, connectivity], [atomwise_prediction])\n",
        "optimizer = tfa.optimizers.AdamW(learning_rate=1E-4, weight_decay=1E-5)\n",
        "charge_model.compile(optimizer, loss=nfp.losses.masked_mean_absolute_error)"
      ],
      "execution_count": 51,
      "outputs": []
    },
    {
      "cell_type": "code",
      "metadata": {
        "colab": {
          "base_uri": "https://localhost:8080/"
        },
        "id": "kPHebIdi5Peq",
        "outputId": "cf68ef95-e844-4c8b-e063-024f39acd6e1"
      },
      "source": [
        "charge_model.fit(train_dataset, validation_data=valid_dataset,\n",
        "                 steps_per_epoch=100, validation_steps=10, epochs=10)"
      ],
      "execution_count": 52,
      "outputs": [
        {
          "output_type": "stream",
          "text": [
            "Epoch 1/10\n",
            "100/100 [==============================] - 52s 417ms/step - loss: 0.0748 - val_loss: 0.0277\n",
            "Epoch 2/10\n",
            "100/100 [==============================] - 39s 390ms/step - loss: 0.0234 - val_loss: 0.0210\n",
            "Epoch 3/10\n",
            "100/100 [==============================] - 20s 205ms/step - loss: 0.0199 - val_loss: 0.0188\n",
            "Epoch 4/10\n",
            "100/100 [==============================] - 8s 77ms/step - loss: 0.0177 - val_loss: 0.0171\n",
            "Epoch 5/10\n",
            "100/100 [==============================] - 8s 79ms/step - loss: 0.0164 - val_loss: 0.0162\n",
            "Epoch 6/10\n",
            "100/100 [==============================] - 8s 78ms/step - loss: 0.0150 - val_loss: 0.0151\n",
            "Epoch 7/10\n",
            "100/100 [==============================] - 8s 77ms/step - loss: 0.0145 - val_loss: 0.0164\n",
            "Epoch 8/10\n",
            "100/100 [==============================] - 8s 77ms/step - loss: 0.0144 - val_loss: 0.0146\n",
            "Epoch 9/10\n",
            "100/100 [==============================] - 8s 81ms/step - loss: 0.0134 - val_loss: 0.0142\n",
            "Epoch 10/10\n",
            "100/100 [==============================] - 8s 81ms/step - loss: 0.0129 - val_loss: 0.0139\n"
          ],
          "name": "stdout"
        },
        {
          "output_type": "execute_result",
          "data": {
            "text/plain": [
              "<tensorflow.python.keras.callbacks.History at 0x7f53846d6ad0>"
            ]
          },
          "metadata": {
            "tags": []
          },
          "execution_count": 52
        }
      ]
    },
    {
      "cell_type": "code",
      "metadata": {
        "colab": {
          "base_uri": "https://localhost:8080/"
        },
        "id": "P8fkoy6Y5yip",
        "outputId": "622260d7-2151-4bec-aaf3-3c94ae657eb0"
      },
      "source": [
        "from datetime import datetime\n",
        "charge_model.save(f\"{datetime.today().strftime('%Y%m%d')}_charge_model\", include_optimizer=False)"
      ],
      "execution_count": 53,
      "outputs": [
        {
          "output_type": "stream",
          "text": [
            "WARNING:absl:Found untraced functions such as gather_layer_call_and_return_conditional_losses, gather_layer_call_fn, slice_layer_call_and_return_conditional_losses, slice_layer_call_fn, slice_1_layer_call_and_return_conditional_losses while saving (showing 5 of 510). These functions will not be directly callable after loading.\n",
            "/usr/local/lib/python3.7/dist-packages/tensorflow/python/keras/utils/generic_utils.py:497: CustomMaskWarning: Custom mask layers require a config and must override get_config. When loading, the custom mask layer must be passed to the custom_objects argument.\n",
            "  category=CustomMaskWarning)\n"
          ],
          "name": "stderr"
        },
        {
          "output_type": "stream",
          "text": [
            "INFO:tensorflow:Assets written to: 20210804_charge_model/assets\n"
          ],
          "name": "stdout"
        },
        {
          "output_type": "stream",
          "text": [
            "INFO:tensorflow:Assets written to: 20210804_charge_model/assets\n"
          ],
          "name": "stderr"
        }
      ]
    },
    {
      "cell_type": "code",
      "metadata": {
        "id": "fyJfCCoC8OXv"
      },
      "source": [
        ""
      ],
      "execution_count": 53,
      "outputs": []
    }
  ]
}